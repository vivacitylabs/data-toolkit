{
  "nbformat": 4,
  "nbformat_minor": 0,
  "metadata": {
    "colab": {
      "provenance": [],
      "collapsed_sections": [],
      "include_colab_link": true
    },
    "kernelspec": {
      "name": "python3",
      "display_name": "Python 3"
    },
    "language_info": {
      "name": "python"
    }
  },
  "cells": [
    {
      "cell_type": "markdown",
      "metadata": {
        "id": "view-in-github",
        "colab_type": "text"
      },
      "source": [
        "<a href=\"https://colab.research.google.com/github/vivacitylabs/data-toolkit/blob/master/countline_speeds_bulk_download_generator.ipynb\" target=\"_parent\"><img src=\"https://colab.research.google.com/assets/colab-badge.svg\" alt=\"Open In Colab\"/></a>"
      ]
    },
    {
      "cell_type": "markdown",
      "source": [
        "# Countline Speeds - Bulk Download Generator\n",
        "\n"
      ],
      "metadata": {
        "id": "swMyhc_6p4SZ"
      }
    },
    {
      "cell_type": "markdown",
      "source": [
        "## Generate a csv file of countline speed data over multiple days"
      ],
      "metadata": {
        "id": "f4ZN3B2nO3_1"
      }
    },
    {
      "cell_type": "markdown",
      "source": [
        "This notebook is a tool to access VivaCity data via the API. It is aimed as an **interim solution** while we're working on new dashboard developments. You can contact your customer success manager for more information."
      ],
      "metadata": {
        "id": "rPUGheZbGhnG"
      }
    },
    {
      "cell_type": "markdown",
      "source": [
        "#### How it works"
      ],
      "metadata": {
        "id": "owGXUfxaRzlG"
      }
    },
    {
      "cell_type": "markdown",
      "source": [
        "This notebook will run you through all the necessary steps and will save a csv file in your Google Drive.\n",
        "\n",
        "You will need to fill in a few details and then hit the run button (▶) next to the code cells.\n",
        "\n",
        "If you want to make changes to the code and save them, you will first need to save a copy of this notebook to your Google Drive.\n",
        "\n"
      ],
      "metadata": {
        "id": "waNUJf0ZOFHa"
      }
    },
    {
      "cell_type": "markdown",
      "source": [
        "**What you will need**\n",
        "\n",
        "- Google account\n",
        "- VivaCity API login credentials\n",
        "- Countline ids you want to download data for \n",
        "\n",
        "\n",
        "\n",
        "ℹ  Note the notebook only works for countlines that have [countline speed](https://vivacitylabs.customerly.help/vivacity-dashboard/countline-speed) enabled\n"
      ],
      "metadata": {
        "id": "bl3aEsarmxD_"
      }
    },
    {
      "cell_type": "markdown",
      "source": [
        "#### Output format"
      ],
      "metadata": {
        "id": "Xi8YdeTmRwNr"
      }
    },
    {
      "cell_type": "markdown",
      "source": [
        "You will receive the mean countline speed in 15min time buckets in the following format:"
      ],
      "metadata": {
        "id": "I9ryHNRfRjWw"
      }
    },
    {
      "cell_type": "markdown",
      "source": [
        "\n",
        "\n",
        "| Start Date | Start time | End time |Countline |  Direction |\tCar (mph)|\tTaxi (mph)|\tLGV (mph)|\tBus (mph)|\tOGV (mph)|\tMotorbike (mph) | Cyclist (mph) |Pedestrian (mph)| Car count | Taxi count | LGV count | Bus count|OGV count | Motorbike count | Cyclist count | Pedestrian count | \n",
        "|:---------:|:---------:|:---------:|:---------:|:---------:|:---------:|:---------:|:---------:|:---------:|:---------:|:---------:|:---------:|:---------:|:---------:|:---------:|:---------:|:---------:|:---------:|:---------:|:---------:|:---------:|\n",
        "| 02/03/2022 |10:30:00\t| 10:45:00|\t40284 | In | 14.57616361\t|n/a\t|13.421616|\tn/a|\t6.710808\t|11.18468|\tn/a|\tn/a | 5 | 0  |3| 0 | 2 | 7| 0 | 0 |\n",
        "\n"
      ],
      "metadata": {
        "id": "lmzYubsdPDFg"
      }
    },
    {
      "cell_type": "markdown",
      "source": [
        "## Stage 1: Getting Started\n",
        "Let's begin by importing the packages we'll need and creating some useful functions!\n",
        "\n",
        "Hit the run button (▶) in the top left corner."
      ],
      "metadata": {
        "id": "p-2otBZMqfTH"
      }
    },
    {
      "cell_type": "code",
      "source": [
        "#@title\n",
        "import requests\n",
        "import getpass\n",
        "import json\n",
        "from datetime import date, datetime, timedelta\n",
        "import pytz\n",
        "import pandas as pd\n",
        "import csv\n",
        "import time\n",
        "from google.colab import drive\n",
        "drive.mount('/content/drive')\n",
        "\n",
        "def get_date_range(start_date, end_date):\n",
        "    start_dates = []\n",
        "    end_dates = []\n",
        "\n",
        "    start_date = datetime.fromisoformat(start_date)\n",
        "    end_date = datetime.fromisoformat(end_date)\n",
        "    while True:\n",
        "        start_dates.append(start_date.strftime('%Y-%m-%dT%H:%M:%S.000Z'))\n",
        "        end_dates.append((start_date+timedelta(days=1)).strftime('%Y-%m-%dT%H:%M:%S.000Z'))\n",
        "        start_date = start_date+timedelta(days=1)\n",
        "        if start_date > end_date:\n",
        "            break\n",
        "    date_range = list(zip(start_dates, end_dates))\n",
        "    return date_range"
      ],
      "metadata": {
        "id": "UXc72Xjuqikg"
      },
      "execution_count": null,
      "outputs": []
    },
    {
      "cell_type": "markdown",
      "source": [
        "## Stage 2: Data Import\n",
        "At the end of this process we will requested data from the API for the dates in the range that you have determined in the **Countline Details** step. \n",
        "\n",
        "The resulting JSON responses will then be converted into a data table in the **Data Processing** step.\n",
        "\n",
        "Authentication is handled at this stage."
      ],
      "metadata": {
        "id": "ceKN_3fHqlP6"
      }
    },
    {
      "cell_type": "markdown",
      "source": [
        "### Countline Details\n",
        "Choose one or more coutlines (add multiple countline ids separated by a comma), the classes you want data for and the date. \n",
        "\n",
        "Other parameters are set by default (eg. time buckets, speed buckets)."
      ],
      "metadata": {
        "id": "xohjEFw-Ao6w"
      }
    },
    {
      "cell_type": "code",
      "source": [
        "#@title { run: \"auto\", vertical-output: true ,  display-mode: \"form\" }\n",
        "countline_ids = \"23248\" #@param {type:\"string\"}\n",
        "classes = \"car,taxi,van,bus,rigid,motorbike,cyclist,pedestrian\" #@param {type:\"string\"}\n",
        "start_date = \"2022-07-18\" #@param {type:\"date\"}\n",
        "end_date = \"2022-07-22\" #@param {type:\"date\"}\n",
        "timezone = \"Europe/London\" #@param ['Europe/London', \"Europe/Berlin\", \"Australia/Sydney\"]\n",
        "\n",
        "#convert local datetime to UTC datetime\n",
        "start_date_utc = str(pd.to_datetime(start_date).tz_localize(timezone).astimezone(pytz.utc))\n",
        "end_date_utc = str(pd.to_datetime(end_date).tz_localize(timezone).astimezone(pytz.utc))\n",
        "\n",
        "params = {}\n",
        "params['countline_ids'] = countline_ids\n",
        "params['classes'] = classes\n",
        "date_range = get_date_range(start_date_utc, end_date_utc)\n",
        "params['time_bucket'] = \"15m\"\n",
        "params['speed_bucket_number'] = \"98\"\n",
        "params['max_speed'] = \"44\"\n",
        "params['min_speed'] = \"0\"\n",
        "params['fill_zeros'] = \"true\""
      ],
      "metadata": {
        "id": "W0wWZvlpr2bB"
      },
      "execution_count": null,
      "outputs": []
    },
    {
      "cell_type": "markdown",
      "source": [
        "### Authentication\n",
        "Now you will need your API login details, ie. a username and a password. If you don't have one, please contact your Customer Success Manager.\n",
        "\n",
        "1.   Enter the username into the field on the right, then hit the run button (▶).\n",
        "2.   Input the password in the box that appears below it and hit \"enter\" on your keyboard. \n"
      ],
      "metadata": {
        "id": "zSCZ0-x1tf0l"
      }
    },
    {
      "cell_type": "code",
      "source": [
        "#@title Insert your login credentials { run: \"auto\", vertical-output: true, display-mode: \"form\" }\n",
        "username = \"api-username\" #@param {type:\"string\"}\n",
        "\n",
        "auth_body = {}\n",
        "auth_body['username'] = username\n",
        "auth_body['password'] = getpass.getpass()"
      ],
      "metadata": {
        "id": "i8mP6EzKE-MX"
      },
      "execution_count": null,
      "outputs": []
    },
    {
      "cell_type": "markdown",
      "source": [
        "### Getting the data\n",
        "\n",
        "\n",
        "Now that we have set the user logins, we will try to get authorised access to the API. If unsuccesful, you will receive an error message at the Authorising stage.\n",
        "\n",
        "We will then request countline speed data for the parameters you set under **Countline Details** (date range, countline ids, classes) \n",
        "\n",
        "The output will tell you how many requests are made and what the progress is."
      ],
      "metadata": {
        "id": "XfRqYcWv1BYd"
      }
    },
    {
      "cell_type": "code",
      "source": [
        "print(\"Authorising...\")\n",
        "auth_response = requests.post(\"https://api.vivacitylabs.com/get-token\", data=auth_body, headers={'Content-Type':'application/x-www-form-urlencoded'})\n",
        "headers = {}\n",
        "headers['Authorization'] = \"Bearer \" + auth_response.json()['access_token']\n",
        "refresh_body = {}\n",
        "refresh_body['refresh_token'] = auth_response.json()['refresh_token']\n",
        "start = time.time()\n",
        "print(\"Done.\")\n",
        "data = []\n",
        "for i,date in enumerate(date_range):\n",
        "  time_elapsed = (time.time() - start)\n",
        "  if time_elapsed > 500:\n",
        "    print(\"Reauthorising...\")\n",
        "    auth_response = requests.post(\"https://api.vivacitylabs.com/refresh-token\", data=refresh_body, headers={'Content-Type':'application/x-www-form-urlencoded'})\n",
        "    headers = {}\n",
        "    headers['Authorization'] = \"Bearer \" + auth_response.json()['access_token']\n",
        "    refresh_body = {}\n",
        "    refresh_body['refresh_token'] = auth_response.json()['refresh_token']\n",
        "    start = time.time()\n",
        "    print(\"Done.\")\n",
        "  params[\"from\"] = date[0]  \n",
        "  params[\"to\"] = date[1] \n",
        "  response = requests.get(\"https://beta.api.vivacitylabs.com/countline/speed\", params=params, headers=headers)\n",
        "  print(str(i+1) + \"/\" + str(len(date_range)) + \": \" + str(response.status_code) + \" \" + response.reason)\n",
        "  data.append(response.json())\n",
        "  time.sleep(1)"
      ],
      "metadata": {
        "id": "JQnn1ln28KaA"
      },
      "execution_count": null,
      "outputs": []
    },
    {
      "cell_type": "markdown",
      "source": [
        "## Stage 3: Data Processing\n",
        "Now we process the raw data output and calculate the average speeds per time bucket. \n",
        "\n",
        "Select a unit you want the speed to be processed as (mph, km/h or m/s)."
      ],
      "metadata": {
        "id": "CnI-EFqr0nxu"
      }
    },
    {
      "cell_type": "code",
      "source": [
        "#@title  { vertical-output: false, display-mode: \"form\" }\n",
        "#@markdown Select a speed unit\n",
        "\n",
        "unit = \"mph\" #@param [ \"mph\", \"km/h\", \"m/s\"]"
      ],
      "metadata": {
        "id": "m-6plSZ8pM3n"
      },
      "execution_count": null,
      "outputs": []
    },
    {
      "cell_type": "code",
      "source": [
        "#get factor\n",
        "if unit == \"mph\":\n",
        "  factor = 2.236936\n",
        "elif unit == \"km/h\":\n",
        "  factor = 3.6\n",
        "else:\n",
        "  factor = 1\n",
        "\n",
        "#process data\n",
        "export = []\n",
        "for date_data in data:\n",
        "  day_export = []\n",
        "  for countline, countline_data in date_data.items():\n",
        "    direction_data = {}\n",
        "    for time_data in countline_data:\n",
        "      start_time = datetime.strptime(time_data['from'],'%Y-%m-%dT%H:%M:%S.000Z')\n",
        "      end_time = datetime.strptime(time_data['to'],'%Y-%m-%dT%H:%M:%S.000Z')\n",
        "      direction_data['out'] = time_data['anti_clockwise']\n",
        "      direction_data['in'] = time_data['clockwise']\n",
        "      counts = {}\n",
        "      averages = {}\n",
        "      for direction_label, class_data in direction_data.items():\n",
        "        counts[direction_label] = {}\n",
        "        averages[direction_label] = {}\n",
        "        for class_label, speed_data in direction_data[direction_label].items():\n",
        "          count_total = 0\n",
        "          speed_total = 0\n",
        "          for speed, count in speed_data.items():\n",
        "            count_total += count\n",
        "            speed_total += count*float(speed)\n",
        "            if count_total != 0:\n",
        "              counts[direction_label][class_label] = str(count_total)\n",
        "              averages[direction_label][class_label] = speed_total* factor /count_total\n",
        "            else:\n",
        "              counts[direction_label][class_label] = '0'\n",
        "              averages[direction_label][class_label] = 'n/a'\n",
        "        row = [#convert dates back to local datetime from UTC\n",
        "              str(pd.to_datetime(start_time).tz_localize('utc').astimezone(timezone).date()),\n",
        "              str(pd.to_datetime(start_time).tz_localize('utc').astimezone(timezone).time()),\n",
        "              str(pd.to_datetime(end_time).tz_localize('utc').astimezone(timezone).time()),\n",
        "              countline,\n",
        "              direction_label\n",
        "              ]\n",
        "        #add averages and counts for all selected classes\n",
        "        for selected_class in classes.split(\",\"):\n",
        "          row.append(averages[direction_label][selected_class])\n",
        "        for selected_class in classes.split(\",\"):\n",
        "          row.append(counts[direction_label][selected_class])\n",
        "        day_export.append(row)\n",
        "  export += day_export"
      ],
      "metadata": {
        "id": "LLyDNHck4IBy"
      },
      "execution_count": null,
      "outputs": []
    },
    {
      "cell_type": "markdown",
      "source": [
        "## Stage 4: Data Export\n",
        "Now let's write this to a `.csv` file and save it to the parent folder (`My drive`) in Google Drive. \n",
        "\n",
        "Fill in the `filename` to the right and then hit run (▶). It could take a few minutes until it will show in your Google Drive."
      ],
      "metadata": {
        "id": "9YNEW3qFGykk"
      }
    },
    {
      "cell_type": "code",
      "source": [
        "#@title Set the output filename { vertical-output: true, display-mode: \"form\" }\n",
        "filename = \"speed-test_2022-10-07\" #@param {type:\"string\"}\n",
        "\n",
        "path = '/content/drive/My Drive/'\n",
        "\n",
        "header = ['date',\t'start_time',\t'end_time', 'countline_id', 'direction']\n",
        "for selected_class in classes.split(\",\"):\n",
        "  header.append(selected_class + \" (mph)\")\n",
        "for selected_class in classes.split(\",\"):\n",
        "  header.append(selected_class + \" count\")\n",
        "with open(path + filename + '.csv', 'w') as f:\n",
        "  writer = csv.writer(f)\n",
        "  writer.writerow(header)\n",
        "  writer.writerows(export)"
      ],
      "metadata": {
        "id": "H_M2lLv6Poaq"
      },
      "execution_count": null,
      "outputs": []
    }
  ]
}