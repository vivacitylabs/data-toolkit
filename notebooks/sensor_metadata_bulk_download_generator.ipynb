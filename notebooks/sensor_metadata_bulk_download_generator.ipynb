{
  "cells": [
    {
      "cell_type": "markdown",
      "metadata": {
        "id": "view-in-github",
        "colab_type": "text"
      },
      "source": [
        "<a href=\"https://colab.research.google.com/github/vivacitylabs/data-toolkit/blob/master/notebooks/sensor_metadata_bulk_download_generator.ipynb\" target=\"_parent\"><img src=\"https://colab.research.google.com/assets/colab-badge.svg\" alt=\"Open In Colab\"/></a>"
      ]
    },
    {
      "cell_type": "markdown",
      "metadata": {
        "id": "swMyhc_6p4SZ"
      },
      "source": [
        "# Sensor metadata - Bulk Download Generator\n",
        "\n"
      ]
    },
    {
      "cell_type": "markdown",
      "metadata": {
        "id": "f4ZN3B2nO3_1"
      },
      "source": [
        "## Generate a csv file of sensor meta data and all their linked entities"
      ]
    },
    {
      "cell_type": "markdown",
      "metadata": {
        "id": "rPUGheZbGhnG"
      },
      "source": [
        "This notebook is a tool to access VivaCity data via the API. It is aimed as an **interim solution** while we're working on new dashboard developments. You can contact customer support if you have any issues (support@vivacitylabs.com) or raise a ticked on the [Customer Help Portal](https://vivacitylabs.atlassian.net/servicedesk/customer/portal/16)."
      ]
    },
    {
      "cell_type": "markdown",
      "metadata": {
        "id": "owGXUfxaRzlG"
      },
      "source": [
        "#### How it works"
      ]
    },
    {
      "cell_type": "markdown",
      "metadata": {
        "id": "waNUJf0ZOFHa"
      },
      "source": [
        "This notebook will run you through all the necessary steps and will save a csv file locally or in your Google Drive.\n",
        "\n",
        "You will need to fill in a few details and then hit the run button (▶) next to the code cells.\n",
        "\n",
        "If you want to make changes to the code and save them, you will first need to save a copy of this notebook to your Google Drive."
      ]
    },
    {
      "cell_type": "markdown",
      "metadata": {
        "id": "5mrW1vbN28lk"
      },
      "source": [
        "**What you will need**\n",
        "\n",
        "- VivaCity API login credentials\n",
        "- Sensor combinations you want to download data for"
      ]
    },
    {
      "cell_type": "markdown",
      "metadata": {
        "id": "Xi8YdeTmRwNr"
      },
      "source": [
        "#### Output format"
      ]
    },
    {
      "cell_type": "markdown",
      "metadata": {
        "id": "I9ryHNRfRjWw"
      },
      "source": [
        "You will receive a list of all your countlines and the associated sensors in the following format.\n",
        "\n",
        "Please note that sensor numbers are derived from countline names and depend on consistency in countline names. Sensors will appear multiple times if they have more than 1 countline linked to them."
      ]
    },
    {
      "cell_type": "markdown",
      "metadata": {
        "id": "lmzYubsdPDFg"
      },
      "source": [
        "\n",
        "| derived_sensor_number | sensor_lat | sensor_long |  countline_id | countline_name |\tavailableClasses| countline_direction | countline_location | devideuid |\n",
        "|:---------:|:---------:|:---------:|:---------:|:---------:|:---------:|:---------:|:---------:|:---------:|\n",
        "| 35 |53.483353\t| -2.25362 |\t13427| S35_HighStreet_road | ['pedestrian', 'cyclist', ...] | both\t| {'start':{'lat': ...}\t|  6a74a1e0-0477-11ea-dwr4-42010af00327 |"
      ]
    },
    {
      "cell_type": "markdown",
      "metadata": {
        "id": "p-2otBZMqfTH"
      },
      "source": [
        "## Stage 1: Getting Started\n",
        "Let's begin by importing the packages we'll need and creating some useful functions!\n",
        "\n",
        "Hit the run button (▶) in the top left corner."
      ]
    },
    {
      "cell_type": "code",
      "execution_count": null,
      "metadata": {
        "id": "UXc72Xjuqikg"
      },
      "outputs": [],
      "source": [
        "#@title { vertical-output: false, display-mode: \"form\" }\n",
        "#@markdown **Code cell:** Run this to import functions and connect to Google Drive\n",
        "import requests\n",
        "import getpass\n",
        "import json\n",
        "import pandas as pd\n",
        "from datetime import date, datetime, timedelta\n",
        "import csv\n",
        "import time\n",
        "import pytz\n",
        "from ipywidgets import interact, interactive, fixed, interact_manual\n",
        "import ipywidgets as widgets"
      ]
    },
    {
      "cell_type": "markdown",
      "metadata": {
        "id": "ceKN_3fHqlP6"
      },
      "source": [
        "## Stage 2: Data Import\n",
        "\n",
        "1. First, we authenticate the API user to get access to the data. If the user isn't setup properly, this will throw an error. Check you got the correct username and password.\n",
        "\n",
        "2. Second, we will get all the sensors and countlines available to the API user .\n",
        "\n",
        "3. In the future: We will add all related entities to the sensor (countlines and zones)\n",
        "\n",
        "ℹ  Sensor names are retrieved from countline names so they can sligthly differ if not named consistently.\n"
      ]
    },
    {
      "cell_type": "markdown",
      "metadata": {
        "id": "zSCZ0-x1tf0l"
      },
      "source": [
        "### Authentication\n",
        "Now you will need your API login details, ie. a username and a password. If you don't have one, please contact contact customer support (support@vivacitylabs.com).\n",
        "\n",
        "1.   Enter the username into the field on the right, then hit the run button (▶).\n",
        "2.   Input the password in the box that appears below it and hit \"enter\" on your keyboard."
      ]
    },
    {
      "cell_type": "code",
      "execution_count": null,
      "metadata": {
        "id": "i8mP6EzKE-MX",
        "colab": {
          "base_uri": "https://localhost:8080/"
        },
        "outputId": "ae05cbb9-e7f3-48eb-f86d-e68efe6e4aa3"
      },
      "outputs": [
        {
          "name": "stdout",
          "output_type": "stream",
          "text": [
            "··········\n"
          ]
        }
      ],
      "source": [
        "#@title  {vertical-output: true, display-mode: \"form\" }\n",
        "#@markdown Insert your login credentials\n",
        "username = \"api-username\" #@param {type:\"string\"}\n",
        "\n",
        "auth_body = {}\n",
        "auth_body['username'] = username\n",
        "auth_body['password'] = getpass.getpass()"
      ]
    },
    {
      "cell_type": "markdown",
      "source": [
        "### Get access token"
      ],
      "metadata": {
        "id": "5IDNCRLuOqrJ"
      }
    },
    {
      "cell_type": "code",
      "source": [
        "#@title { vertical-output: false, display-mode: \"form\" }\n",
        "#@markdown **Code cell:** Run this to get authorized access to the API\n",
        "print(\"Authorising...\")\n",
        "auth_response = requests.post(\"https://api.vivacitylabs.com/get-token\", data=auth_body, headers={'Content-Type':'application/x-www-form-urlencoded'})\n",
        "if auth_response.status_code == 401:\n",
        "  print(\"\\n!Error: Can't connect to the API. Check your username and password again.\\nIf issues persists, ask customer support if your user is setup correctly on the API\\n\")\n",
        "else:\n",
        "  headers = {}\n",
        "  headers['Authorization'] = \"Bearer \" + auth_response.json()['access_token']\n",
        "  refresh_body = {}\n",
        "  refresh_body['refresh_token'] = auth_response.json()['refresh_token']\n",
        "  start = time.time()\n",
        "  print(\"Done. Successfully retrieved access token.\")"
      ],
      "metadata": {
        "colab": {
          "base_uri": "https://localhost:8080/"
        },
        "id": "QFPh76M_OpQE",
        "outputId": "0849a812-4dac-4600-b8dd-2c1ed1df4bed"
      },
      "execution_count": null,
      "outputs": [
        {
          "output_type": "stream",
          "name": "stdout",
          "text": [
            "Authorising...\n",
            "Done. Successfully retrieved access token.\n"
          ]
        }
      ]
    },
    {
      "cell_type": "markdown",
      "source": [
        "### Get meta data for sensors and their countlines"
      ],
      "metadata": {
        "id": "c1xcn5x7OHTA"
      }
    },
    {
      "cell_type": "code",
      "execution_count": null,
      "metadata": {
        "id": "Ga3E6UcjwgUD"
      },
      "outputs": [],
      "source": [
        "#@title { vertical-output: false, display-mode: \"form\" }\n",
        "#@markdown **Code cell:** Run this to get sensor and countline metadata from the API V2\n",
        "\n",
        "#get sensors\n",
        "#print(\"\\nRequesting metadata ...\")\n",
        "api_url_base = 'https://api.vivacitylabs.com'\n",
        "sensor_request = requests.get(f'{api_url_base}/sensor', headers=headers)\n",
        "sensors = sensor_request.json()\n",
        "\n",
        "#get countlines\n",
        "countline_request = requests.get(f'{api_url_base}/countline', headers=headers)\n",
        "countlines = countline_request.json()\n",
        "\n",
        "#convert to dataframe and merge both\n",
        "df_sensors = pd.DataFrame.from_dict(sensors).explode('countlines').reset_index(drop=True).rename(columns={\"id\":\"deviceuid\", \"location\": \"sensor_location\", \"countlines\":\"countline_id\"})\n",
        "df_countlines = pd.DataFrame.from_dict(countlines).rename(columns={\"id\": \"countline_id\", \"name\":\"countline_name\", \"location\":\"countline_location\", \"direction\":\"countline_direction\"})\n",
        "df_meta = pd.merge(df_sensors, df_countlines, on=\"countline_id\", how=\"left\")\n",
        "\n",
        "# split sensor coordinates\n",
        "df_meta[\"sensor_lat\"] = [i[\"lat\"] if i is not None else \"None\" for i in df_meta[\"sensor_location\"]]\n",
        "df_meta[\"sensor_long\"] = [i[\"long\"] if i is not None else \"None\" for i in df_meta[\"sensor_location\"]]\n",
        "\n",
        "# drop sensors with no coordinates\n",
        "df_meta = df_meta[df_meta[\"sensor_lat\"]!=\"None\"]\n",
        "\n",
        "# drop sensors with no countlines\n",
        "df_meta = df_meta[~df_meta[\"countline_id\"].isna()]\n",
        "df_meta = df_meta.reset_index(drop=True)\n",
        "\n",
        "# drop countline with no coordinates\n",
        "countline_coords = []\n",
        "for i in range(len(df_meta[\"countline_location\"])):\n",
        "  if list(df_meta[\"countline_location\"][i][\"start\"].items())[0][1] == None:\n",
        "    countline_coords.append(\"No\")\n",
        "  else:\n",
        "    countline_coords.append(\"Yes\")\n",
        "df_meta[\"countline_coords\"] = countline_coords\n",
        "df_meta = df_meta[df_meta[\"countline_coords\"]!=\"No\"]\n",
        "\n",
        "# derive sensor number from countline names\n",
        "sensor_name = df_meta[~df_meta[\"countline_name\"].isna()].copy()\n",
        "sensor_name = df_meta.copy()\n",
        "sensor_name['derived_sensor_name'] = sensor_name['countline_name'].str.extract('([S,s]_?\\d{1,3})', expand=True)\n",
        "sensor_name[\"derived_sensor_name\"] = sensor_name[\"derived_sensor_name\"].fillna(\"Unknown\")\n",
        "sensor_name = sensor_name.drop_duplicates(subset='deviceuid', keep='first').sort_values(by='derived_sensor_name',ascending=True)\n",
        "\n",
        "# derived_sensor_number\n",
        "sensor_name['derived_sensor_number'] = sensor_name['derived_sensor_name'].str.extract('(\\d+)', expand=True)\n",
        "sensor_name[\"derived_sensor_number\"] = sensor_name[\"derived_sensor_number\"].fillna(\"Unknown\")\n",
        "\n",
        "# merge name into main dataframe\n",
        "df_meta = pd.merge(df_meta, sensor_name[[\"deviceuid\", \"derived_sensor_name\", \"derived_sensor_number\"]], on=\"deviceuid\", how=\"left\")\n",
        "\n",
        "# reorder columns\n",
        "df_meta = df_meta[['derived_sensor_number', 'sensor_lat', 'sensor_long', 'countline_id',\n",
        "       'countline_name', 'availableClasses', 'countline_direction', 'countline_location', 'deviceuid']]\n"
      ]
    },
    {
      "cell_type": "markdown",
      "metadata": {
        "id": "9YNEW3qFGykk"
      },
      "source": [
        "## Stage 3: Data Export\n",
        "Now let's write this to a .csv file. You can either save the file locally (it will show in your Downloads folder) or save it to a Google Drive.\n",
        "\n",
        "* **Local Downloads Folder:** This might not work if your browser or computer blocking downloads.\n",
        "* **Google Drive:** If you want to save it in Google Drive, you will be asked for permission to connect to your Google Account."
      ]
    },
    {
      "cell_type": "code",
      "execution_count": null,
      "metadata": {
        "id": "H_M2lLv6Poaq",
        "colab": {
          "base_uri": "https://localhost:8080/",
          "height": 17
        },
        "outputId": "01656ce1-f766-494e-dca4-3713ee05fea5"
      },
      "outputs": [
        {
          "output_type": "display_data",
          "data": {
            "text/plain": [
              "<IPython.core.display.Javascript object>"
            ],
            "application/javascript": [
              "\n",
              "    async function download(id, filename, size) {\n",
              "      if (!google.colab.kernel.accessAllowed) {\n",
              "        return;\n",
              "      }\n",
              "      const div = document.createElement('div');\n",
              "      const label = document.createElement('label');\n",
              "      label.textContent = `Downloading \"${filename}\": `;\n",
              "      div.appendChild(label);\n",
              "      const progress = document.createElement('progress');\n",
              "      progress.max = size;\n",
              "      div.appendChild(progress);\n",
              "      document.body.appendChild(div);\n",
              "\n",
              "      const buffers = [];\n",
              "      let downloaded = 0;\n",
              "\n",
              "      const channel = await google.colab.kernel.comms.open(id);\n",
              "      // Send a message to notify the kernel that we're ready.\n",
              "      channel.send({})\n",
              "\n",
              "      for await (const message of channel.messages) {\n",
              "        // Send a message to notify the kernel that we're ready.\n",
              "        channel.send({})\n",
              "        if (message.buffers) {\n",
              "          for (const buffer of message.buffers) {\n",
              "            buffers.push(buffer);\n",
              "            downloaded += buffer.byteLength;\n",
              "            progress.value = downloaded;\n",
              "          }\n",
              "        }\n",
              "      }\n",
              "      const blob = new Blob(buffers, {type: 'application/binary'});\n",
              "      const a = document.createElement('a');\n",
              "      a.href = window.URL.createObjectURL(blob);\n",
              "      a.download = filename;\n",
              "      div.appendChild(a);\n",
              "      a.click();\n",
              "      div.remove();\n",
              "    }\n",
              "  "
            ]
          },
          "metadata": {}
        },
        {
          "output_type": "display_data",
          "data": {
            "text/plain": [
              "<IPython.core.display.Javascript object>"
            ],
            "application/javascript": [
              "download(\"download_f637a930-a291-419e-8c30-0f98af66e780\", \"sensors_and_countlines_metadata.csv\", 161352)"
            ]
          },
          "metadata": {}
        }
      ],
      "source": [
        "#@title  { vertical-output: true, display-mode: \"form\" }\n",
        "#@markdown Select where to save the csv file\n",
        "download_location = \"Local folder\" #@param [ \"Local folder\", \"Google Drive\"]\n",
        "#@markdown Name your file\n",
        "filename = \"sensors_and_countlines_metadata\" #@param {type:\"string\"}\n",
        "#@markdown Hit run (>)\n",
        "df_export = df_meta\n",
        "\n",
        "if download_location == \"Local folder\":\n",
        "  from google.colab import files\n",
        "  df_export.to_csv(filename + \".csv\", index = False)\n",
        "  files.download(filename + \".csv\")\n",
        "else:\n",
        "  from google.colab import drive\n",
        "  drive.mount('/content/drive')\n",
        "  path = '/content/drive/My Drive/'\n",
        "  df_export.to_csv(path + filename +\".csv\", index = False)"
      ]
    },
    {
      "cell_type": "markdown",
      "source": [
        "### WIP: Add zones and other metadata from API v3"
      ],
      "metadata": {
        "id": "GRfiOK-UOR70"
      }
    },
    {
      "cell_type": "code",
      "source": [
        "#@title { vertical-output: false, display-mode: \"form\" }\n",
        "#@markdown **Code cell:** Once finalised this will match zones to sensors\n",
        "\n",
        "#get hardware meta data\n",
        "#print(\"\\nRequesting metadata ...\")\n",
        "api_url_base = 'https://beta.api.vivacitylabs.com'\n",
        "hardware_request = requests.get(f'{api_url_base}/hardware/metadata', headers=headers)\n",
        "if hardware_request.status_code == 401:\n",
        "  print(\"\\n!Error: Can't access the data. Ask customer support if your user is setup correctly on API 3\\n\")\n",
        "hardware = hardware_request.json()\n",
        "\n",
        "# Get hardware info\n",
        "dict_hard = { \"hardware_id\" : [], \"countline_id\" : [], \"countline_name\" : [] }\n",
        "for id in hardware:\n",
        "  for lens in hardware[id][\"view_points\"]:\n",
        "    for entity in hardware[id][\"view_points\"][lens]:\n",
        "      for countline_id in hardware[id][\"view_points\"][lens][\"countlines\"]:\n",
        "        dict_hard[\"hardware_id\"].append(id)\n",
        "        dict_hard[\"countline_id\"].append(countline_id)\n",
        "        dict_hard[\"countline_name\"].append(hardware[id][\"view_points\"][lens][\"countlines\"][countline_id]['name'])\n",
        "\n",
        "#turn into dataframe and clean up\n",
        "df_hard = pd.DataFrame.from_dict(dict_hard)\n",
        "df_hard[\"sensor_name\"] = df_hard[\"countline_name\"]\n",
        "df_hard[\"countline_name_display\"] = df_hard[\"countline_name\"] + \" (\" + df_hard[\"countline_id\"] + \")\"\n",
        "for i in range(len(df_hard)):\n",
        "  if len(df_hard[\"sensor_name\"].iloc[i])>1:\n",
        "    df_hard[\"sensor_name\"].iloc[i] = df_hard[\"sensor_name\"].iloc[i][0] + \"\" + df_hard[\"sensor_name\"].iloc[i][1]\n",
        "  else:\n",
        "    df_hard[\"sensor_name\"].iloc[i] = df_hard[\"sensor_name\"].iloc[i]\n",
        "df_hard = df_hard.drop_duplicates()\n",
        "#print(len(df_hard[\"countline_id\"].unique()), \" countlines available\")"
      ],
      "metadata": {
        "id": "sb3g6tPXOEg7"
      },
      "execution_count": null,
      "outputs": []
    }
  ],
  "metadata": {
    "colab": {
      "provenance": [],
      "toc_visible": true,
      "include_colab_link": true
    },
    "kernelspec": {
      "display_name": "Python 3",
      "name": "python3"
    },
    "language_info": {
      "name": "python"
    }
  },
  "nbformat": 4,
  "nbformat_minor": 0
}