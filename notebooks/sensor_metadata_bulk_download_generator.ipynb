{
  "cells": [
    {
      "cell_type": "markdown",
      "metadata": {
        "id": "view-in-github",
        "colab_type": "text"
      },
      "source": [
        "<a href=\"https://colab.research.google.com/github/vivacitylabs/data-toolkit/blob/master/notebooks/sensor_metadata_bulk_download_generator.ipynb\" target=\"_parent\"><img src=\"https://colab.research.google.com/assets/colab-badge.svg\" alt=\"Open In Colab\"/></a>"
      ]
    },
    {
      "cell_type": "markdown",
      "metadata": {
        "id": "swMyhc_6p4SZ"
      },
      "source": [
        "# Sensor metadata - Bulk Download Generator\n",
        "\n"
      ]
    },
    {
      "cell_type": "markdown",
      "metadata": {
        "id": "f4ZN3B2nO3_1"
      },
      "source": [
        "## Generate a csv file of sensor meta data"
      ]
    },
    {
      "cell_type": "markdown",
      "metadata": {
        "id": "rPUGheZbGhnG"
      },
      "source": [
        "This notebook gives you access to VivaCity data via the API. It is an **interim solution** while we're working on dashboard developments.\n",
        "\n",
        "You can contact customer support if you have any issues (support@vivacitylabs.com) or raise a ticked on the [Customer Help Portal](https://vivacitylabs.atlassian.net/servicedesk/customer/portal/16)."
      ]
    },
    {
      "cell_type": "markdown",
      "metadata": {
        "id": "owGXUfxaRzlG"
      },
      "source": [
        "#### How it works"
      ]
    },
    {
      "cell_type": "markdown",
      "metadata": {
        "id": "waNUJf0ZOFHa"
      },
      "source": [
        "This notebook will run you through all the necessary steps and will output a csv file.\n",
        "\n",
        "You just fill in a few details and hit the run button (▶) next to each code cell.\n",
        "\n",
        "You will need your VivaCity **API login credentials**"
      ]
    },
    {
      "cell_type": "markdown",
      "metadata": {
        "id": "Xi8YdeTmRwNr"
      },
      "source": [
        "#### Output format"
      ]
    },
    {
      "cell_type": "markdown",
      "metadata": {
        "id": "I9ryHNRfRjWw"
      },
      "source": [
        "You will receive a list of all your sensors (hardware) with their linked entities (lens, countlines, zones).\n",
        "\n",
        "The API names match Dashboard terminology as follows\n",
        "\n",
        "- Hardware Position (`hardware_pos`) = Sensor\n",
        "- View_point = Lens\n",
        "- Countline = Countline\n",
        "- Zone = Zone\n",
        "\n",
        "Please note that sensor numbers are derived from countline names and depend on consistency in countline names."
      ]
    },
    {
      "cell_type": "markdown",
      "metadata": {
        "id": "lmzYubsdPDFg"
      },
      "source": [
        "\n",
        "| derived_sensor_number | hardware_pos_id | hardware_pos_lat |  hardware_pos_lon |  view_point_id | entity |\tentity_id | entity_geojson | zonal_speeds | dwell_times |turning_counts | occupancy |\n",
        "|:---------:|:---------:|:---------:|:---------:|:---------:|:---------:|:---------:|:---------:|:---------:|:---------:|:---------:|:---------:|\n",
        "| S5 |63502 |53.483353\t| -2.25362 |\t13427 | Countline | 52345 | {'type': 'LineString', 'coordinates': [[ ..\t| FALSE\t|  FALSE | FALSE\t|  FALSE |\n",
        "| S5 |63502 |53.483353\t| -2.25362 |\t13427 | Zone | 521 |\t| FALSE\t|  TRUE | FALSE\t|  FALSE |"
      ]
    },
    {
      "cell_type": "markdown",
      "metadata": {
        "id": "p-2otBZMqfTH"
      },
      "source": [
        "## Stage 1: Getting Started\n",
        "Let's import the packages we need. Hit the run button (▶) in the top left."
      ]
    },
    {
      "cell_type": "code",
      "execution_count": 1,
      "metadata": {
        "id": "UXc72Xjuqikg"
      },
      "outputs": [],
      "source": [
        "#@title { vertical-output: false, display-mode: \"form\" }\n",
        "#@markdown **Code cell:** Run this to import functions\n",
        "import requests\n",
        "import getpass\n",
        "import json\n",
        "import pandas as pd\n",
        "from datetime import date, datetime, timedelta\n",
        "import csv\n",
        "import time\n",
        "import pytz\n",
        "from ipywidgets import interact, interactive, fixed, interact_manual\n",
        "import ipywidgets as widgets"
      ]
    },
    {
      "cell_type": "markdown",
      "metadata": {
        "id": "ceKN_3fHqlP6"
      },
      "source": [
        "## Stage 2: Request data\n",
        "\n",
        "1. We authenticate the API user. If the user isn't setup properly, this will throw an error. Check you got the correct username and password.\n",
        "\n",
        "2. We will get all the sensors available to the API user and clean data a bit.\n",
        "\n",
        "\n",
        "ℹ  Sensor names are retrieved from countline names so they can sligthly differ if not named consistently.\n"
      ]
    },
    {
      "cell_type": "markdown",
      "metadata": {
        "id": "zSCZ0-x1tf0l"
      },
      "source": [
        "### Authentication\n",
        "Now you will need your API login details, ie. a username and a password. If you don't have one, please contact contact customer support (support@vivacitylabs.com).\n",
        "\n",
        "1.   Enter the username into the field on the right, then hit the run button (▶).\n",
        "2.   Input the password in the box that appears below it and hit \"enter\" on your keyboard."
      ]
    },
    {
      "cell_type": "code",
      "execution_count": 2,
      "metadata": {
        "id": "i8mP6EzKE-MX",
        "colab": {
          "base_uri": "https://localhost:8080/"
        },
        "outputId": "630d54a2-5196-4872-8a28-042d9fc0d9ba"
      },
      "outputs": [
        {
          "name": "stdout",
          "output_type": "stream",
          "text": [
            "··········\n"
          ]
        }
      ],
      "source": [
        "#@title  {vertical-output: true, display-mode: \"form\" }\n",
        "#@markdown #### Provide API credentials\n",
        "#@markdown Insert your login credentials then hit run button\n",
        "username = \"api-username\" #@param {type:\"string\"}\n",
        "\n",
        "auth_body = {}\n",
        "auth_body['username'] = username\n",
        "auth_body['password'] = getpass.getpass()"
      ]
    },
    {
      "cell_type": "markdown",
      "source": [
        "#### Get access token"
      ],
      "metadata": {
        "id": "5IDNCRLuOqrJ"
      }
    },
    {
      "cell_type": "code",
      "source": [
        "#@title { vertical-output: false, display-mode: \"form\" }\n",
        "#@markdown **Code cell:** Run this to get authorized access to the API\n",
        "print(\"Authorising...\")\n",
        "auth_response = requests.post(\"https://api.vivacitylabs.com/get-token\", data=auth_body, headers={'Content-Type':'application/x-www-form-urlencoded'})\n",
        "if auth_response.status_code == 401:\n",
        "  print(\"\\n!Error: Can't connect to the API. Check your username and password again.\\nIf issues persists, ask customer support if your user is setup correctly on the API\\n\")\n",
        "else:\n",
        "  headers = {}\n",
        "  headers['Authorization'] = \"Bearer \" + auth_response.json()['access_token']\n",
        "  refresh_body = {}\n",
        "  refresh_body['refresh_token'] = auth_response.json()['refresh_token']\n",
        "  start = time.time()\n",
        "  print(\"Done. Successfully retrieved access token.\")"
      ],
      "metadata": {
        "colab": {
          "base_uri": "https://localhost:8080/"
        },
        "id": "QFPh76M_OpQE",
        "outputId": "ce46965c-d4e5-48e9-9557-2cec6e55a6ed"
      },
      "execution_count": 3,
      "outputs": [
        {
          "output_type": "stream",
          "name": "stdout",
          "text": [
            "Authorising...\n",
            "Done. Successfully retrieved access token.\n"
          ]
        }
      ]
    },
    {
      "cell_type": "markdown",
      "source": [
        "### Get sensor meta data"
      ],
      "metadata": {
        "id": "c1xcn5x7OHTA"
      }
    },
    {
      "cell_type": "code",
      "source": [
        "#@title { vertical-output: false, display-mode: \"form\" }\n",
        "#@markdown **Code cell:** Run this to pull and process meta data\n",
        "# API V3\n",
        "\n",
        "#get hardware meta data\n",
        "print(\"\\nRequesting metadata ...\")\n",
        "api_url_base = 'https://beta.api.vivacitylabs.com'\n",
        "hardware_request = requests.get(f'{api_url_base}/hardware/metadata', headers=headers)\n",
        "if hardware_request.status_code == 401:\n",
        "  print(\"\\n!Error: Can't access the data. Check with customer support if your user is setup correctly on API 3\\n\")\n",
        "hardware = hardware_request.json()\n",
        "\n",
        "# Get hardware info\n",
        "dict_hard = { \"hardware_pos_id\" : [], \"hardware_pos_lat\" : [], \"hardware_pos_lon\" : [], \"view_point_id\" : [],\n",
        "             \"entity\":[], \"entity_id\": [], \"entity_name\": [] , \"entity_geojson\":[],\n",
        "             \"zonal_speed\":[], \"dwell_times\":[], \"turning_counts\":[],\"occupancy\":[]}\n",
        "for hwid in hardware:\n",
        "  for vpid in hardware[hwid][\"view_points\"]:\n",
        "    for countline_id in hardware[hwid][\"view_points\"][vpid][\"countlines\"]:\n",
        "        dict_hard[\"hardware_pos_id\"].append(hwid)\n",
        "        dict_hard[\"hardware_pos_lat\"].append(hardware[hwid][\"lat\"])\n",
        "        dict_hard[\"hardware_pos_lon\"].append(hardware[hwid][\"long\"])\n",
        "        dict_hard[\"view_point_id\"].append(vpid)\n",
        "        dict_hard[\"entity\"].append(\"Countline\")\n",
        "        dict_hard[\"entity_id\"].append(countline_id)\n",
        "        dict_hard[\"entity_name\"].append(hardware[hwid][\"view_points\"][vpid][\"countlines\"][countline_id]['name'])\n",
        "        dict_hard[\"entity_geojson\"].append(hardware[hwid][\"view_points\"][vpid][\"countlines\"][countline_id][\"geometry\"][\"geo_json\"])\n",
        "        dict_hard[\"zonal_speed\"].append(False)\n",
        "        dict_hard[\"dwell_times\"].append(False)\n",
        "        dict_hard[\"turning_counts\"].append(False)\n",
        "        dict_hard[\"occupancy\"].append(False)\n",
        "    for zone_id in hardware[hwid][\"view_points\"][vpid][\"zones\"]:\n",
        "        dict_hard[\"hardware_pos_id\"].append(hwid)\n",
        "        dict_hard[\"hardware_pos_lat\"].append(hardware[hwid][\"lat\"])\n",
        "        dict_hard[\"hardware_pos_lon\"].append(hardware[hwid][\"long\"])\n",
        "        dict_hard[\"view_point_id\"].append(vpid)\n",
        "        dict_hard[\"entity\"].append(\"Zone\")\n",
        "        dict_hard[\"entity_id\"].append(zone_id)\n",
        "        dict_hard[\"entity_name\"].append(hardware[hwid][\"view_points\"][vpid][\"zones\"][zone_id]['name'])\n",
        "        dict_hard[\"entity_geojson\"].append(hardware[hwid][\"view_points\"][vpid][\"zones\"][zone_id][\"geometry\"][\"geo_json\"])\n",
        "        dict_hard[\"zonal_speed\"].append(hardware[hwid][\"view_points\"][vpid][\"zones\"][zone_id]['is_speed'])\n",
        "        dict_hard[\"dwell_times\"].append(hardware[hwid][\"view_points\"][vpid][\"zones\"][zone_id]['is_dwell_times_zone'])\n",
        "        dict_hard[\"turning_counts\"].append(hardware[hwid][\"view_points\"][vpid][\"zones\"][zone_id]['is_turning'])\n",
        "        dict_hard[\"occupancy\"].append(hardware[hwid][\"view_points\"][vpid][\"zones\"][zone_id]['is_occupancy'])\n",
        "\n",
        "# convert to data frame\n",
        "df = pd.DataFrame.from_dict(dict_hard)\n",
        "\n",
        "# derive sensor number from countline names\n",
        "sensor_name = df[df[\"entity\"]==\"Countline\"].copy()\n",
        "sensor_name['derived_sensor_number'] = sensor_name['entity_name'].str.extract('([S,s]_?\\d{1,3})', expand=True)\n",
        "sensor_name = sensor_name[~sensor_name[\"entity_geojson\"].isna()] # remove countlines with no geometry data\n",
        "sensor_name = sensor_name.drop_duplicates(subset='hardware_pos_id', keep='first').sort_values(by='derived_sensor_number',ascending=True).reset_index(drop=True)\n",
        "\n",
        "# merge derived sensor names\n",
        "df = pd.merge(df, sensor_name[[\"hardware_pos_id\", \"derived_sensor_number\"]], left_on=\"hardware_pos_id\", right_on=\"hardware_pos_id\", how=\"left\")\n",
        "df[\"derived_sensor_number\"] = df[\"derived_sensor_number\"].fillna(\"Unknown\")\n",
        "\n",
        "# reorder columns\n",
        "df = df[['derived_sensor_number', 'hardware_pos_id', 'hardware_pos_lat', 'hardware_pos_lon',\n",
        "       'view_point_id', 'entity', 'entity_id', 'entity_name', 'entity_geojson',\n",
        "       'zonal_speed', 'dwell_times', 'turning_counts', 'occupancy']]\n",
        "\n",
        "print(\"done\")"
      ],
      "metadata": {
        "colab": {
          "base_uri": "https://localhost:8080/"
        },
        "id": "zVNVIYiDixPO",
        "outputId": "69c2b985-02f5-4eb1-d3e8-6ab7c1616aa7"
      },
      "execution_count": 4,
      "outputs": [
        {
          "output_type": "stream",
          "name": "stdout",
          "text": [
            "\n",
            "Requesting metadata ...\n",
            "done\n"
          ]
        }
      ]
    },
    {
      "cell_type": "markdown",
      "metadata": {
        "id": "9YNEW3qFGykk"
      },
      "source": [
        "## Stage 3: Data Export\n",
        "Now let's write this to a .csv file. You can either save the file locally (it will show in your Downloads folder) or save it to a Google Drive.\n",
        "\n",
        "* **Local Downloads Folder:** This might not work if your browser or computer blocking downloads.\n",
        "* **Google Drive:** If you want to save it in Google Drive, you will be asked for permission to connect to your Google Account."
      ]
    },
    {
      "cell_type": "code",
      "execution_count": 33,
      "metadata": {
        "id": "H_M2lLv6Poaq",
        "colab": {
          "base_uri": "https://localhost:8080/",
          "height": 17
        },
        "outputId": "0bbc572a-dbf0-4c62-bc8d-28795ff2c2d3"
      },
      "outputs": [
        {
          "output_type": "display_data",
          "data": {
            "text/plain": [
              "<IPython.core.display.Javascript object>"
            ],
            "application/javascript": [
              "\n",
              "    async function download(id, filename, size) {\n",
              "      if (!google.colab.kernel.accessAllowed) {\n",
              "        return;\n",
              "      }\n",
              "      const div = document.createElement('div');\n",
              "      const label = document.createElement('label');\n",
              "      label.textContent = `Downloading \"${filename}\": `;\n",
              "      div.appendChild(label);\n",
              "      const progress = document.createElement('progress');\n",
              "      progress.max = size;\n",
              "      div.appendChild(progress);\n",
              "      document.body.appendChild(div);\n",
              "\n",
              "      const buffers = [];\n",
              "      let downloaded = 0;\n",
              "\n",
              "      const channel = await google.colab.kernel.comms.open(id);\n",
              "      // Send a message to notify the kernel that we're ready.\n",
              "      channel.send({})\n",
              "\n",
              "      for await (const message of channel.messages) {\n",
              "        // Send a message to notify the kernel that we're ready.\n",
              "        channel.send({})\n",
              "        if (message.buffers) {\n",
              "          for (const buffer of message.buffers) {\n",
              "            buffers.push(buffer);\n",
              "            downloaded += buffer.byteLength;\n",
              "            progress.value = downloaded;\n",
              "          }\n",
              "        }\n",
              "      }\n",
              "      const blob = new Blob(buffers, {type: 'application/binary'});\n",
              "      const a = document.createElement('a');\n",
              "      a.href = window.URL.createObjectURL(blob);\n",
              "      a.download = filename;\n",
              "      div.appendChild(a);\n",
              "      a.click();\n",
              "      div.remove();\n",
              "    }\n",
              "  "
            ]
          },
          "metadata": {}
        },
        {
          "output_type": "display_data",
          "data": {
            "text/plain": [
              "<IPython.core.display.Javascript object>"
            ],
            "application/javascript": [
              "download(\"download_3169eaa6-d919-4012-b274-9ae0a50c00be\", \"sensor_metadata.csv\", 43567)"
            ]
          },
          "metadata": {}
        }
      ],
      "source": [
        "#@title  { vertical-output: true, display-mode: \"form\" }\n",
        "#@markdown Select where to save the csv file\n",
        "download_location = \"Local folder\" #@param [ \"Local folder\", \"Google Drive\"]\n",
        "#@markdown Name your file\n",
        "filename = \"sensor_metadata\" #@param {type:\"string\"}\n",
        "#@markdown Hit run (>)\n",
        "df_export = df\n",
        "\n",
        "if download_location == \"Local folder\":\n",
        "  from google.colab import files\n",
        "  df_export.to_csv(filename + \".csv\", index = False)\n",
        "  files.download(filename + \".csv\")\n",
        "else:\n",
        "  from google.colab import drive\n",
        "  drive.mount('/content/drive')\n",
        "  path = '/content/drive/My Drive/'\n",
        "  df_export.to_csv(path + filename +\".csv\", index = False)"
      ]
    }
  ],
  "metadata": {
    "colab": {
      "provenance": [],
      "toc_visible": true,
      "include_colab_link": true
    },
    "kernelspec": {
      "display_name": "Python 3",
      "name": "python3"
    },
    "language_info": {
      "name": "python"
    }
  },
  "nbformat": 4,
  "nbformat_minor": 0
}