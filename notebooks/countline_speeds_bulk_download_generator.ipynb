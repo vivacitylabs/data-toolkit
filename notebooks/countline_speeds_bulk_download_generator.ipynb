{
  "cells": [
    {
      "cell_type": "markdown",
      "metadata": {
        "id": "view-in-github",
        "colab_type": "text"
      },
      "source": [
        "<a href=\"https://colab.research.google.com/github/vivacitylabs/data-toolkit/blob/master/notebooks/countline_speeds_bulk_download_generator.ipynb\" target=\"_parent\"><img src=\"https://colab.research.google.com/assets/colab-badge.svg\" alt=\"Open In Colab\"/></a>"
      ]
    },
    {
      "cell_type": "markdown",
      "metadata": {
        "id": "swMyhc_6p4SZ"
      },
      "source": [
        "# Countline Speeds - Bulk Download Generator V2"
      ]
    },
    {
      "cell_type": "markdown",
      "metadata": {
        "id": "f4ZN3B2nO3_1"
      },
      "source": [
        "## Generate a csv file of countline speed data over multiple days"
      ]
    },
    {
      "cell_type": "markdown",
      "metadata": {
        "id": "rPUGheZbGhnG"
      },
      "source": [
        "This notebook only works for countlines that have countline speeds enabled.\n",
        "\n",
        "**Note:** This notebook relies on a lot of data processing to calculate average speeds. It might crash if too much data is requested. Please be mindful when selecting number of countlines, time bucket granularity and time period."
      ]
    },
    {
      "cell_type": "markdown",
      "metadata": {
        "id": "owGXUfxaRzlG"
      },
      "source": [
        "#### How to do it"
      ]
    },
    {
      "cell_type": "markdown",
      "metadata": {
        "id": "waNUJf0ZOFHa"
      },
      "source": [
        "This notebook will run you through all the necessary steps and will save the output csv file locally or in your Google Drive.\n",
        "\n",
        "You will simply need to fill in a few details and then hit the run button next to the code cells.\n",
        "\n",
        "What you will need:\n",
        "\n",
        "- VivaCity API login credentials\n",
        "- Countline ids you want to download data for\n"
      ]
    },
    {
      "cell_type": "markdown",
      "metadata": {
        "id": "Xi8YdeTmRwNr"
      },
      "source": [
        "#### Output format"
      ]
    },
    {
      "cell_type": "markdown",
      "metadata": {
        "id": "I9ryHNRfRjWw"
      },
      "source": [
        "You will receive data on countline speed in the following format:\n",
        "\n",
        "Beware that direction is given as In/Out but also aggregated (Both). If numbers are added up without filtering, then volumes will be doubled."
      ]
    },
    {
      "cell_type": "markdown",
      "metadata": {
        "id": "lmzYubsdPDFg"
      },
      "source": [
        "\n",
        "\n",
        "| Countline | Start Date | Time from | Time to |Class | Direction |\ttotal_counts |\tmean_speed |\t<5mph\t |\t5-10mph |\t10-15mph|\t15-20mph | 20-25mph |25-30mph| 30-35mph | >35mph | total_over_20mph | total_over_25mph | total_over_30mph |\n",
        "|:---------:|:---------:|:---------:|:---------:|:---------:|:---------:|:---------:|:---------:|:---------:|:---------:|:---------:|:---------:|:---------:|:---------:|:---------:|:---------:|:---------:|:---------:|:---------:|\n",
        "| 40284| 02/03/2022 |10:00:00\t| 11:00:00|\tCar| Return |  10\t| 24.57616361\t|0 | 0|0|2\t|5|\t2|\t1 | 0 | 0  |0| 0 |0 |\n",
        "\n",
        "\n",
        "\n",
        "\n"
      ]
    },
    {
      "cell_type": "markdown",
      "metadata": {
        "id": "p-2otBZMqfTH"
      },
      "source": [
        "## Stage 1: Getting Started\n",
        "Let's begin by importing the packages we'll need and creating some useful functions!\n",
        "\n",
        "Hit the run button in the top left corner."
      ]
    },
    {
      "cell_type": "code",
      "execution_count": null,
      "metadata": {
        "id": "UXc72Xjuqikg"
      },
      "outputs": [],
      "source": [
        "#@title  { vertical-output: true, display-mode: \"form\" }\n",
        "#@markdown **Code cell:** Run this to import functions\n",
        "import requests\n",
        "import getpass\n",
        "import json\n",
        "from datetime import date, datetime, timedelta\n",
        "import pytz\n",
        "import pandas as pd\n",
        "import numpy as np\n",
        "import csv\n",
        "import time\n",
        "from IPython.display import Markdown, display\n",
        "def printmd(string):\n",
        "    display(Markdown(string))\n",
        "from ipywidgets import interact, interactive, fixed, interact_manual, Layout, Box\n",
        "import ipywidgets as widgets\n",
        "\n",
        "def get_date_range(start_date, end_date):\n",
        "    start_dates = []\n",
        "    end_dates = []\n",
        "\n",
        "    start_date = datetime.fromisoformat(start_date)\n",
        "    end_date = datetime.fromisoformat(end_date)\n",
        "    while True:\n",
        "        start_dates.append(start_date.strftime('%Y-%m-%dT%H:%M:%S.000Z'))\n",
        "        end_dates.append((start_date+timedelta(days=1)).strftime('%Y-%m-%dT%H:%M:%S.000Z'))\n",
        "        start_date = start_date+timedelta(days=1)\n",
        "        if start_date > end_date:\n",
        "            break\n",
        "    date_range = list(zip(start_dates, end_dates))\n",
        "    return date_range"
      ]
    },
    {
      "cell_type": "markdown",
      "metadata": {
        "id": "ceKN_3fHqlP6"
      },
      "source": [
        "## Stage 2: Data Import\n",
        "First, we'll input the api username and password. Contact your Customer Success Manage if you don't have these details.\n",
        "\n",
        "We will then request all countlines the user has access to. If some countlines are missing, get in touch with us.\n",
        "\n",
        "Finally, you will select the date period, countlines and classes to request data for."
      ]
    },
    {
      "cell_type": "markdown",
      "metadata": {
        "id": "zSCZ0-x1tf0l"
      },
      "source": [
        "### Authentication\n",
        "Now you will need your API login details, ie. a username and a password. If you don't have one, please contact your Customer Success Manager.\n",
        "\n",
        "1.   Enter the username into the field on the right, then hit the run button (▶).\n",
        "2.   Input the password in the box that appears below it and hit \"enter\" on your keyboard."
      ]
    },
    {
      "cell_type": "code",
      "execution_count": null,
      "metadata": {
        "id": "i8mP6EzKE-MX"
      },
      "outputs": [],
      "source": [
        "#@title  { run: \"auto\", vertical-output: true, display-mode: \"form\" }\n",
        "#@markdown Insert your login credentials\n",
        "username = \"api-username\" #@param {type:\"string\"}\n",
        "\n",
        "auth_body = {}\n",
        "auth_body['username'] = username\n",
        "auth_body['password'] = getpass.getpass()"
      ]
    },
    {
      "cell_type": "markdown",
      "source": [
        "#### Available Countlines\n",
        "\n",
        "Get access token using our username and password and get countlines user has access to."
      ],
      "metadata": {
        "id": "D5sOCLPzoPrT"
      }
    },
    {
      "cell_type": "code",
      "source": [
        "#@title { vertical-output: false, display-mode: \"form\" }\n",
        "#@markdown **Code cell:** Run this to get authorized access to the API\n",
        "\n",
        "print(\"Authorising...\")\n",
        "auth_response = requests.post(\"https://api.vivacitylabs.com/get-token\", data=auth_body, headers={'Content-Type':'application/x-www-form-urlencoded'})\n",
        "if auth_response.status_code == 401:\n",
        "  print(\"\\n!Error: Can't connect to the API. Check your username and password again.\\nIf issues persists, ask your CSM to check with technical support if your user is setup correctly on the API\\n\")\n",
        "else:\n",
        "  headers = {}\n",
        "  headers['Authorization'] = \"Bearer \" + auth_response.json()['access_token']\n",
        "  refresh_body = {}\n",
        "  refresh_body['refresh_token'] = auth_response.json()['refresh_token']\n",
        "  start = time.time()\n",
        "  print(\"Done. Successfully retrieved access token.\")"
      ],
      "metadata": {
        "id": "Nyrn4u86_msm"
      },
      "execution_count": null,
      "outputs": []
    },
    {
      "cell_type": "code",
      "source": [
        "#@title { vertical-output: false, display-mode: \"form\" }\n",
        "#@markdown **Code cell:** Run this to retrieve sensors and countlines available to you from the API\n",
        "\n",
        "#get hardware meta data\n",
        "print(\"\\nRequesting metadata ...\")\n",
        "api_url_base = 'https://beta.api.vivacitylabs.com'\n",
        "hardware_request = requests.get(f'{api_url_base}/hardware/metadata', headers=headers)\n",
        "if hardware_request.status_code == 401:\n",
        "  print(\"\\n!Error: Can't access the data. Ask your CSM to check with technical support if your user is setup correctly on API 3\\n\")\n",
        "hardware = hardware_request.json()\n",
        "\n",
        "# Get hardware info\n",
        "dict_hard = { \"hardware_id\" : [], \"countline_id\" : [], \"countline_name\" : [] }\n",
        "for id in hardware:\n",
        "  for lens in hardware[id][\"view_points\"]:\n",
        "    for entity in hardware[id][\"view_points\"][lens]:\n",
        "      for countline_id in hardware[id][\"view_points\"][lens][\"countlines\"]:\n",
        "        dict_hard[\"hardware_id\"].append(id)\n",
        "        dict_hard[\"countline_id\"].append(countline_id)\n",
        "        dict_hard[\"countline_name\"].append(hardware[id][\"view_points\"][lens][\"countlines\"][countline_id]['name'])\n",
        "\n",
        "#turn into dataframe and clean up\n",
        "df_hard = pd.DataFrame.from_dict(dict_hard)\n",
        "df_hard[\"sensor_name\"] = df_hard[\"countline_name\"]\n",
        "df_hard[\"countline_name_display\"] = df_hard[\"countline_name\"] + \" (\" + df_hard[\"countline_id\"] + \")\"\n",
        "for i in range(len(df_hard)):\n",
        "  if len(df_hard[\"sensor_name\"].iloc[i])>1:\n",
        "    df_hard[\"sensor_name\"].iloc[i] = df_hard[\"sensor_name\"].iloc[i][0] + \"\" + df_hard[\"sensor_name\"].iloc[i][1]\n",
        "  else:\n",
        "    df_hard[\"sensor_name\"].iloc[i] = df_hard[\"sensor_name\"].iloc[i]\n",
        "\n",
        "print(len(df_hard[\"countline_id\"].unique()), \" countlines available\")"
      ],
      "metadata": {
        "id": "1WnJTCv6oKPQ"
      },
      "execution_count": null,
      "outputs": []
    },
    {
      "cell_type": "markdown",
      "metadata": {
        "id": "xohjEFw-Ao6w"
      },
      "source": [
        "#### Select countlines and date range for querying the API\n",
        "\n",
        "\n",
        "After running the code below you can select class and countlines from the dropdown. Also select the start and end dates. Ensure that the start date is before the end date."
      ]
    },
    {
      "cell_type": "code",
      "source": [
        "#@title  { vertical-output: true, display-mode: \"form\" }\n",
        "#@markdown **Code cell:** Run this and then  make your selections\n",
        "\n",
        "box_layout = Layout(display='flex', flex_flow='column',\n",
        "                    align_items='stretch', border=None, width='28%')\n",
        "\n",
        "start_date_input = widgets.DatePicker(description=\"Start date\",layout=Layout(width='55%'))\n",
        "end_date_input = widgets.DatePicker(description=\"End date\",layout=Layout(width='55%'))\n",
        "timezone = widgets.Dropdown(options=['Europe/London', \"Europe/Berlin\", \"Australia/Sydney\"],description=\"Timezone\",layout=Layout(width='55%'))\n",
        "timebucket_input = widgets.Dropdown(options=['15m', \"1h\", \"24h\"],description=\"Time bucket\",layout=Layout(width='55%'))\n",
        "class_input = widgets.SelectMultiple(\n",
        "    options=[ \"cyclist\", \"motorbike\", \"car\", \"pedestrian\", \"taxi\", \"van\", \"minibus\", \"bus\", \"rigid\", \"truck\", \"emergency_car\", \"emergency_van\", \"fire_engine\", \"escooter\"],\n",
        "    description='Class',  disabled=False,\n",
        "    layout=Layout(width='55%', height='230px')\n",
        ")\n",
        "countlines_input = widgets.SelectMultiple(\n",
        "    options=df_hard[\"countline_name_display\"].sort_values().unique(),\n",
        "    description='Countlines',\n",
        "    disabled=False,\n",
        "    layout=Layout(width='auto', height='200px')\n",
        ")\n",
        "items = [start_date_input, end_date_input, timezone, timebucket_input, class_input,countlines_input]\n",
        "box = Box(children=items, layout=box_layout)\n",
        "printmd(\"**Select date period and countlines**\")\n",
        "printmd(\"Hold  `Ctrl + Shift`  to select multiple classes or countlines\")\n",
        "print(\"\")\n",
        "box"
      ],
      "metadata": {
        "id": "I4tjuuUio2u7"
      },
      "execution_count": null,
      "outputs": []
    },
    {
      "cell_type": "markdown",
      "source": [
        "Run the cell below to set the input parameters for the API request. Check that they look alright"
      ],
      "metadata": {
        "id": "VVSAsOkapM9f"
      }
    },
    {
      "cell_type": "code",
      "source": [
        "#@title  { vertical-output: true, display-mode: \"form\" }\n",
        "#@markdown **Code cell:** Run this and check your selection again.\n",
        "params = {}\n",
        "params['countline_ids'] = df_hard[df_hard[\"countline_name_display\"].isin(countlines_input.value)][\"countline_id\"].to_list()\n",
        "params['classes'] = list(class_input.value)\n",
        "params['time_bucket'] = timebucket_input.value\n",
        "\n",
        "#set fixed parameters\n",
        "params['speed_bucket_number'] = \"98\"\n",
        "params['max_speed'] = \"44\"\n",
        "params['min_speed'] = \"0\"\n",
        "params['fill_zeros'] = \"true\"\n",
        "\n",
        "#convert local datetime to UTC datetime\n",
        "start_date_utc = str(pd.to_datetime(start_date_input.value).tz_localize(timezone.value).astimezone(pytz.utc))\n",
        "end_date_utc = str(pd.to_datetime(end_date_input.value).tz_localize(timezone.value).astimezone(pytz.utc))\n",
        "\n",
        "#check if dates are in correct order\n",
        "if start_date_input.value > end_date_input.value:\n",
        "  print(\"Start date is after end date, please correct your date selection\")\n",
        "else:\n",
        "  date_range = get_date_range(start_date_utc, end_date_utc)\n",
        "  printmd(\"**Check your selection:**\\n\")\n",
        "  print(\"Dates:\", start_date_input.value, \"to\", end_date_input.value,\"\\nTimebucket:\", timebucket_input.value, \"\\nClass:\", class_input.value, \"\\nCountlines:\", countlines_input.value )"
      ],
      "metadata": {
        "id": "7L2juBOWpRbq"
      },
      "execution_count": null,
      "outputs": []
    },
    {
      "cell_type": "markdown",
      "metadata": {
        "id": "XfRqYcWv1BYd"
      },
      "source": [
        "#### Getting the data\n",
        "\n",
        "Here's the API call to get the countline speed data.\n",
        "\n",
        "The output will tell you how many requests are made and what the progress is."
      ]
    },
    {
      "cell_type": "code",
      "execution_count": null,
      "metadata": {
        "id": "JQnn1ln28KaA"
      },
      "outputs": [],
      "source": [
        "#@title  {vertical-output: true, display-mode: \"form\" }\n",
        "#@markdown **Code cell:** Run this to get data from the API\n",
        "\n",
        "#request data\n",
        "print(\"Requesting data ...\")\n",
        "df_speed = []\n",
        "for i,date in enumerate(date_range):\n",
        "  time_elapsed = (time.time() - start)\n",
        "  if time_elapsed > 500:\n",
        "    print(\"Reauthorising...\")\n",
        "    auth_response = requests.post(\"https://api.vivacitylabs.com/refresh-token\", data=refresh_body, headers={'Content-Type':'application/x-www-form-urlencoded'})\n",
        "    headers = {}\n",
        "    headers['Authorization'] = \"Bearer \" + auth_response.json()['access_token']\n",
        "    refresh_body = {}\n",
        "    refresh_body['refresh_token'] = auth_response.json()['refresh_token']\n",
        "    start = time.time()\n",
        "    print(\"Done. Got new access token\")\n",
        "  params[\"from\"] = date[0]\n",
        "  params[\"to\"] = date[1]\n",
        "  response = requests.get(\"https://beta.api.vivacitylabs.com/countline/speed\", params=params, headers=headers)\n",
        "  response_json = response.json()\n",
        "\n",
        "  #turn into dataframe\n",
        "  df_request = {\"countline_id\" : [], \"date\":[], \"timefrom\": [], \"timeto\": [], \"classes\": [], \"direction\": [], \"data\":[]}\n",
        "  for countline in response_json:\n",
        "      for buckets in response_json[countline]:\n",
        "          for _class in buckets[\"clockwise\"].keys():\n",
        "              df_request[\"countline_id\"].append(countline)\n",
        "              df_request[\"date\"].append(pd.to_datetime(buckets[\"from\"]).tz_convert(timezone.value).date())\n",
        "              df_request[\"timefrom\"].append(pd.to_datetime(buckets[\"from\"]).tz_convert(timezone.value).time())\n",
        "              df_request[\"timeto\"].append(pd.to_datetime(buckets[\"to\"]).tz_convert(timezone.value).time())\n",
        "              df_request[\"classes\"].append(_class)\n",
        "              df_request[\"direction\"].append(\"In\")\n",
        "              df_request[\"data\"].append(buckets[\"clockwise\"][_class])\n",
        "          for _class in buckets[\"anti_clockwise\"].keys():\n",
        "              df_request[\"countline_id\"].append(countline)\n",
        "              df_request[\"date\"].append(pd.to_datetime(buckets[\"from\"]).tz_convert(timezone.value).date())\n",
        "              df_request[\"timefrom\"].append(pd.to_datetime(buckets[\"from\"]).tz_convert(timezone.value).time())\n",
        "              df_request[\"timeto\"].append(pd.to_datetime(buckets[\"to\"]).tz_convert(timezone.value).time())\n",
        "              df_request[\"classes\"].append(_class)\n",
        "              df_request[\"direction\"].append(\"Out\")\n",
        "              df_request[\"data\"].append(buckets[\"anti_clockwise\"][_class])\n",
        "  df_request = pd.DataFrame.from_dict(df_request)\n",
        "  df_speed.append(df_request)   #append all dataframes\n",
        "\n",
        "  #print progress\n",
        "  print(str(i+1) + \"/\" + str(len(date_range)) + \": \" + str(response.status_code) + \" \" + response.reason)\n",
        "  time.sleep(1)\n",
        "\n",
        "print(\"Converting into dataframe ...\")\n",
        "#return single dataframe\n",
        "df_speed = pd.concat(df_speed, axis=0)\n",
        "df_speed = df_speed.join(pd.json_normalize(df_speed['data'])) #expand data to columns\n",
        "\n",
        "#error when no data returned\n",
        "if len(df_speed)==0:\n",
        "  print(\"Note: No data returned for set parameters (date, countlines, classes). Please run a different request.\")\n",
        "else:\n",
        "  print(\"Done\")"
      ]
    },
    {
      "cell_type": "markdown",
      "metadata": {
        "id": "CnI-EFqr0nxu"
      },
      "source": [
        "## Stage 3: Data Processing\n",
        "Now we process the raw data output and calculate the average speeds per time bucket as well as counts in speed bins."
      ]
    },
    {
      "cell_type": "markdown",
      "metadata": {
        "id": "JG45K9_NKV5Z"
      },
      "source": [
        "#### General clean up\n",
        "\n",
        "You can chose to collapse detailed classes into 8 road user groups as displayed on the dashboard. Depending on the size of your data, this step may take a while"
      ]
    },
    {
      "cell_type": "code",
      "execution_count": null,
      "metadata": {
        "id": "TXLjui9r_htV"
      },
      "outputs": [],
      "source": [
        "#@title  { vertical-output: false, display-mode: \"form\" }\n",
        "#@markdown Do you want to collapse detailed classes into 8 road user types?\n",
        "\n",
        "collapse_classes = \"yes\" #@param [ \"yes\", \"no\"]\n",
        "\n",
        "print(\"Running script ...\")\n",
        "\n",
        "#create new column with collapsed classes and sum data\n",
        "collapsed_classes = {\"pedestrian\":\"Pedestrian\",\"cyclist\":\"Cyclist\",\"e-scooter\":\"Pedestrian\", \"motorbike\":\"Motorbike\",\"car\":\"Car\",\"taxi\":\"Car\",\n",
        "                     \"emergency_car\":\"Car\",\"van\":\"LGV\",\"emergency_van\":\"LGV\",\n",
        "                     \"bus\":\"Bus\",\"minibus\":\"Bus\",\"rigid\":\"OGV1\",\"fire_engine\":\"OGV1\",\"truck\":\"OGV2\",}\n",
        "if collapse_classes == \"yes\":\n",
        "  df_speed[\"class\"] = df_speed[\"classes\"].map(collapsed_classes)\n",
        "  df_speed = df_speed.drop(columns=[\"data\", \"classes\"]).groupby(['countline_id', 'date', 'timefrom', 'timeto', 'class', 'direction']).sum().reset_index()\n",
        "else:\n",
        "  df_speed[\"class\"] = df_speed[\"classes\"]\n",
        "\n",
        "#clean up direction\n",
        "df_speed_dir = df_speed.drop(columns=[\"direction\"]).groupby(['countline_id','date', 'timefrom', 'timeto', 'class']).sum().reset_index() #sum per direction\n",
        "df_speed_dir[\"direction\"] =  \"Both\"\n",
        "\n",
        "#add combined direction to dataframe\n",
        "df_speed = pd.concat([df_speed,df_speed_dir], axis=0).sort_values(by=['countline_id', 'date', 'timefrom', 'timeto', 'class']).reset_index(drop=True)\n",
        "print(\"Done.\")"
      ]
    },
    {
      "cell_type": "markdown",
      "metadata": {
        "id": "cGkUctOIKtvS"
      },
      "source": [
        "#### Calculate average speed\n",
        "\n",
        "Depending on the size of your data, this may take a while."
      ]
    },
    {
      "cell_type": "code",
      "execution_count": null,
      "metadata": {
        "id": "MmJLi2gGe-dj"
      },
      "outputs": [],
      "source": [
        "#@title  { vertical-output: false, display-mode: \"form\" }\n",
        "#@markdown **Code cell:** Run this to calculate average speed\n",
        "\n",
        "#recreate data in dictionary for calculating means\n",
        "print(\"Preparing data... Time:\", datetime.now())\n",
        "df_speed[\"data\"] = [ dict(zip(df_speed.columns[7:], df_speed[df_speed.columns[7:]].iloc[i].to_list())) for i in df_speed.index]\n",
        "print(\"Done. Prepared data. Time:\", datetime.now())\n",
        "\n",
        "#reate mean using data stored in dictionary\n",
        "print(\"\\nCalculating mean ...\")\n",
        "def mean_from_histo(histogram):\n",
        "    total_speed = 0\n",
        "    total_counts = sum(histogram.values())\n",
        "\n",
        "    #calculate average speed\n",
        "    for key in histogram:\n",
        "        total_speed += float(key)*histogram[key]\n",
        "    if total_counts != 0:\n",
        "        avg_speed = total_speed / total_counts\n",
        "    else:\n",
        "        avg_speed = np.nan\n",
        "    return round(avg_speed,2)\n",
        "\n",
        "#append data\n",
        "total_counts = []\n",
        "mean = []\n",
        "\n",
        "for row in df_speed[\"data\"]:\n",
        "    total_counts.append(sum(row.values()))\n",
        "    mean.append(mean_from_histo(row))\n",
        "\n",
        "df_speed[\"total_counts\"] = total_counts\n",
        "df_speed[\"mean\"] = mean\n",
        "df_speed[\"mean\"] = df_speed[\"mean\"] * 2.236936\n",
        "print(\"Done. Calculated mean\")"
      ]
    },
    {
      "cell_type": "markdown",
      "metadata": {
        "id": "mOY-3YUvPnUg"
      },
      "source": [
        "#### Calculate counts in speed bins"
      ]
    },
    {
      "cell_type": "code",
      "execution_count": null,
      "metadata": {
        "id": "B3Uie5E4Pqqu"
      },
      "outputs": [],
      "source": [
        "#@title  { vertical-output: false, display-mode: \"form\" }\n",
        "#@markdown **Code cell:** Run this to group counts into 5mph speed bins\n",
        "print(\"Creating speed bins ...\")\n",
        "speed_bins = {\n",
        "          \"<5mph\" : [\"0.00\",\"0.45\",\"0.90\",\"1.35\",\"1.80\"],\n",
        "          \"5-10mph\": [\"2.24\",\"2.69\",\"3.14\",\"3.59\",\"4.04\"],\n",
        "          \"10-15mph\":[\"4.49\",\"4.94\",\"5.39\",\"5.84\",\"6.29\"],\n",
        "          \"15-20mph\" : [\"6.73\",\"7.18\",\"7.63\",\"8.08\",\"8.53\"],\n",
        "          \"20-25mph\": [\"8.98\",\"9.43\",\"9.88\",\"10.33\",\"10.78\"],\n",
        "          \"25-30mph\": [\"11.22\",\"11.67\",\"12.12\",\"12.57\",\"13.02\"],\n",
        "          \"30-35mph\": [\"13.47\",\"13.92\",\"14.37\",\"14.82\",\"15.27\"],\n",
        "          \">35mph\": [\"15.71\",\"16.16\",\"16.61\",\"17.06\",\"17.51\",\"17.96\",\"18.41\",\"18.86\",\"19.31\",\"19.76\", \"20.20\",\"20.65\",\"21.10\",\"21.55\",\"22.00\",\n",
        "                     \"22.45\",\"22.90\",\"23.35\",\"23.80\",\"24.24\", \"24.69\",\"25.14\",\"25.59\",\"26.04\",\"26.49\", \"26.94\",\"27.39\",\"27.84\",\"28.29\",\"28.73\",\n",
        "                     \"29.18\",\"29.63\",\"30.08\",\"30.53\",\"30.98\", \"31.43\",\"31.88\",\"32.33\",\"32.78\",\"33.22\", \"33.67\",\"34.12\",\"34.57\",\"35.02\",\"35.47\",\n",
        "                     \"35.92\",\"36.37\",\"36.82\",\"37.27\",\"37.71\", \"38.16\",\"38.61\",\"39.06\",\"39.51\",\"39.96\", \"40.41\",\"40.86\",\"41.31\",\"41.76\",\"42.20\",\"42.65\",\"43.10\",\"43.55\"]\n",
        "               }\n",
        "\n",
        "for bin in speed_bins:\n",
        "  df_speed[bin] = df_speed[speed_bins[bin]].sum(axis=1)\n",
        "\n",
        "print(\"Done. Created speed bins.\")"
      ]
    },
    {
      "cell_type": "markdown",
      "metadata": {
        "id": "CTJtazuFVj_L"
      },
      "source": [
        "#### Clean up file before export"
      ]
    },
    {
      "cell_type": "code",
      "execution_count": null,
      "metadata": {
        "id": "FVOi-ccWS9xr"
      },
      "outputs": [],
      "source": [
        "#@title  { vertical-output: false, display-mode: \"form\" }\n",
        "#@markdown **Code cell:** Run this to clean up data before exporting\n",
        "print(\"Cleaning up ...\")\n",
        "\n",
        "#clean up dataframe\n",
        "df_speed_final = df_speed[['countline_id', 'date','timefrom','timeto','class','direction','total_counts','mean','<5mph','5-10mph','10-15mph','15-20mph',\n",
        "                                 '20-25mph','25-30mph','30-35mph', '>35mph']]\n",
        "\n",
        "#rename columns\n",
        "column_names = {'countline_id': \"countline_id\",  'date': \"date\",'timefrom': \"time_from\",'timeto': \"time_to\",'class': \"class\",'direction': \"direction\",\n",
        "                'total_counts': \"total_counts\",'mean': \"mean_speed\",'<5mph': '<5mph','5-10mph': '5-10mph','10-15mph': '10-15mph','15-20mph': '15-20mph',\n",
        "                                 '20-25mph': '20-25mph','25-30mph': '25-30mph','30-35mph': '30-35mph', '>35mph': '>35mph'}\n",
        "df_speed_final = df_speed_final.rename(columns=column_names)\n",
        "\n",
        "#add more aggregations\n",
        "df_speed_final[\"total_over_20mph\"] = df_speed_final[[ '20-25mph','25-30mph','30-35mph', '>35mph' ]].sum(axis=1)\n",
        "df_speed_final[\"total_over_25mph\"] = df_speed_final[['25-30mph','30-35mph', '>35mph' ]].sum(axis=1)\n",
        "df_speed_final[\"total_over_30mph\"] = df_speed_final[['30-35mph', '>35mph' ]].sum(axis=1)\n",
        "\n",
        "print(\"Done. File ready for export.\")"
      ]
    },
    {
      "cell_type": "markdown",
      "metadata": {
        "id": "9YNEW3qFGykk"
      },
      "source": [
        "## Stage 4: Data Export\n",
        "Now let's write this to a .csv file. You can either save the file locally (it will show in your Downloads folder) or save it to a Google Drive.\n",
        "\n",
        "\n",
        "* **Local Downloads Folder:** This might not work if your browser or computer blocking downloads.\n",
        "* **Google Drive:** If you want to save it in Google Drive, you will be asked for permission to connect to your Google Account."
      ]
    },
    {
      "cell_type": "code",
      "execution_count": null,
      "metadata": {
        "id": "qIhjk_AZUUe_"
      },
      "outputs": [],
      "source": [
        "#@title  { vertical-output: true, display-mode: \"form\" }\n",
        "#@markdown Select where to save the csv file\n",
        "download_location = \"Local folder\" #@param [ \"Local folder\", \"Google Drive\"]\n",
        "#@markdown Name your file\n",
        "filename = \"countline-speeds-test\" #@param {type:\"string\"}\n",
        "#@markdown Hit run (>)\n",
        "\n",
        "if download_location == \"Local folder\":\n",
        "  from google.colab import files\n",
        "  df_speed_final.to_csv(filename + \".csv\", index = False)\n",
        "  files.download(filename + \".csv\")\n",
        "else:\n",
        "  from google.colab import drive\n",
        "  drive.mount('/content/drive')\n",
        "  path = '/content/drive/My Drive/'\n",
        "  df_speed_final.to_csv(path + filename +\".csv\", index = False)"
      ]
    }
  ],
  "metadata": {
    "colab": {
      "provenance": [],
      "include_colab_link": true
    },
    "kernelspec": {
      "display_name": "Python 3",
      "name": "python3"
    },
    "language_info": {
      "name": "python"
    }
  },
  "nbformat": 4,
  "nbformat_minor": 0
}