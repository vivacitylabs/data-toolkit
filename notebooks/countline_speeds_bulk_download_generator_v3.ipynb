{
  "cells": [
    {
      "cell_type": "markdown",
      "metadata": {
        "id": "view-in-github",
        "colab_type": "text"
      },
      "source": [
        "<a href=\"https://colab.research.google.com/github/vivacitylabs/data-toolkit/blob/master/notebooks/countline_speeds_bulk_download_generator_v3.ipynb\" target=\"_parent\"><img src=\"https://colab.research.google.com/assets/colab-badge.svg\" alt=\"Open In Colab\"/></a>"
      ]
    },
    {
      "cell_type": "markdown",
      "metadata": {
        "id": "swMyhc_6p4SZ"
      },
      "source": [
        "# Countline Speeds - Bulk Download Generator V3\n"
      ]
    },
    {
      "cell_type": "markdown",
      "metadata": {
        "id": "f4ZN3B2nO3_1"
      },
      "source": [
        "## Generate a csv file of countline speed data over multiple days"
      ]
    },
    {
      "cell_type": "markdown",
      "metadata": {
        "id": "rPUGheZbGhnG"
      },
      "source": [
        "This notebook only works for countlines that have countline speeds enabled."
      ]
    },
    {
      "cell_type": "markdown",
      "metadata": {
        "id": "owGXUfxaRzlG"
      },
      "source": [
        "#### How to do it"
      ]
    },
    {
      "cell_type": "markdown",
      "metadata": {
        "id": "waNUJf0ZOFHa"
      },
      "source": [
        "This notebook will run you through all the necessary steps and will save the output csv file locally or in your Google Drive.\n",
        "\n",
        "You will simply need to fill in a few details and then hit the run button next to the code cells.\n",
        "\n",
        "What you will need:\n",
        "\n",
        "- VivaCity API login credentials\n"
      ]
    },
    {
      "cell_type": "markdown",
      "metadata": {
        "id": "Xi8YdeTmRwNr"
      },
      "source": [
        "#### Output format"
      ]
    },
    {
      "cell_type": "markdown",
      "metadata": {
        "id": "I9ryHNRfRjWw"
      },
      "source": [
        "You will receive data on countline speed in the following format:\n",
        "\n",
        "Beware that direction is given as In/Out but also aggregated (Both). If numbers are added up without filtering, then volumes will be doubled.\n",
        "\n",
        "Speed values (mean, 85th percentile, speed buckets) are provided in the chosen unit (mph, km/h or m/s)"
      ]
    },
    {
      "cell_type": "markdown",
      "metadata": {
        "id": "lmzYubsdPDFg"
      },
      "source": [
        "\n",
        "\n",
        "| Countline | Start Date | Time from | Time to |Class | Direction |\ttotal_counts |\tmean |\t85percentile | 0-5 |\t5-10 |\t10-15|\t15-20 | 20-25 |25-30| 30-35 | 35-40 | 40-45 | 45-50 |50-55 |\n",
        "|:---------:|:---------:|:---------:|:---------:|:---------:|:---------:|:---------:|:---------:|:---------:|:---------:|:---------:|:---------:|:---------:|:---------:|:---------:|:---------:|:---------:|:---------:|:---------:|:---------:|\n",
        "| 40284| 02/03/2022 |10:00:00\t| 11:00:00|\tCar| In |  10\t| 24.576\t|26.842 | 0|0|2\t|5|\t2|\t1 | 0 | 0  |0| 0 |0 |\n",
        "\n",
        "\n",
        "\n",
        "\n"
      ]
    },
    {
      "cell_type": "markdown",
      "metadata": {
        "id": "p-2otBZMqfTH"
      },
      "source": [
        "## Stage 1: Getting Started\n",
        "Let's begin by importing the packages we'll need and creating some useful functions!\n",
        "\n",
        "Hit the run button in the top left corner."
      ]
    },
    {
      "cell_type": "code",
      "execution_count": null,
      "metadata": {
        "id": "UXc72Xjuqikg"
      },
      "outputs": [],
      "source": [
        "#@title  { vertical-output: true, display-mode: \"form\" }\n",
        "#@markdown **Code cell:** Run this to import functions\n",
        "import requests\n",
        "import getpass\n",
        "import json\n",
        "from datetime import date, datetime, timedelta\n",
        "import pytz\n",
        "import pandas as pd\n",
        "import numpy as np\n",
        "import csv\n",
        "import time\n",
        "from IPython.display import Markdown, display\n",
        "def printmd(string):\n",
        "    display(Markdown(string))\n",
        "from ipywidgets import interact, interactive, fixed, interact_manual, Layout, Box\n",
        "import ipywidgets as widgets\n",
        "\n",
        "def get_date_range(start_date, end_date):\n",
        "    start_dates = []\n",
        "    end_dates = []\n",
        "\n",
        "    start_date = datetime.fromisoformat(start_date)\n",
        "    end_date = datetime.fromisoformat(end_date)\n",
        "    while True:\n",
        "        start_dates.append(start_date.strftime('%Y-%m-%dT%H:%M:%S.000Z'))\n",
        "        end_dates.append((start_date+timedelta(days=1)).strftime('%Y-%m-%dT%H:%M:%S.000Z'))\n",
        "        start_date = start_date+timedelta(days=1)\n",
        "        if start_date > end_date:\n",
        "            break\n",
        "    date_range = list(zip(start_dates, end_dates))\n",
        "    return date_range"
      ]
    },
    {
      "cell_type": "markdown",
      "metadata": {
        "id": "ceKN_3fHqlP6"
      },
      "source": [
        "## Stage 2: Data Import\n",
        "First, we'll input the api username and password. Contact customer support (support@vivacitylabs.com) if you don't have these details.\n",
        "\n",
        "We will then request all countlines the user has access to. If some countlines are missing, get in touch with us.\n",
        "\n",
        "Finally, you will select the date period, countlines and classes to request data for."
      ]
    },
    {
      "cell_type": "markdown",
      "metadata": {
        "id": "zSCZ0-x1tf0l"
      },
      "source": [
        "### Authentication\n",
        "Now you will need your API login details, ie. a username and a password.If you don't have one, please contact contact customer support (support@vivacitylabs.com).\n",
        "\n",
        "1.   Enter the username into the field on the right, then hit the run button (▶).\n",
        "2.   Input the password in the box that appears below it and hit \"enter\" on your keyboard."
      ]
    },
    {
      "cell_type": "code",
      "execution_count": null,
      "metadata": {
        "id": "i8mP6EzKE-MX"
      },
      "outputs": [],
      "source": [
        "#@title  { vertical-output: true, display-mode: \"form\" }\n",
        "#@markdown Insert your login credentials\n",
        "username = \"api-username\" #@param {type:\"string\"}\n",
        "\n",
        "auth_body = {}\n",
        "auth_body['username'] = username\n",
        "auth_body['password'] = getpass.getpass()"
      ]
    },
    {
      "cell_type": "markdown",
      "source": [
        "#### Available Countlines\n",
        "\n",
        "Get access token using our username and password and get countlines user has access to."
      ],
      "metadata": {
        "id": "D5sOCLPzoPrT"
      }
    },
    {
      "cell_type": "code",
      "source": [
        "#@title { vertical-output: false, display-mode: \"form\" }\n",
        "#@markdown **Code cell:** Run this to get authorized access to the API\n",
        "\n",
        "print(\"Authorising...\")\n",
        "auth_response = requests.post(\"https://api.vivacitylabs.com/get-token\", data=auth_body, headers={'Content-Type':'application/x-www-form-urlencoded'})\n",
        "if auth_response.status_code == 401:\n",
        "  print(\"\\n!Error: Can't connect to the API. Check your username and password again.\\nIf issues persists, ask customer support if your user is setup correctly on the API\\n\")\n",
        "else:\n",
        "  headers = {}\n",
        "  headers['Authorization'] = \"Bearer \" + auth_response.json()['access_token']\n",
        "  refresh_body = {}\n",
        "  refresh_body['refresh_token'] = auth_response.json()['refresh_token']\n",
        "  start = time.time()\n",
        "  print(\"Done. Successfully retrieved access token.\")"
      ],
      "metadata": {
        "id": "Nyrn4u86_msm"
      },
      "execution_count": null,
      "outputs": []
    },
    {
      "cell_type": "code",
      "source": [
        "#@title { vertical-output: false, display-mode: \"form\" }\n",
        "#@markdown **Code cell:** Run this to retrieve sensors and countlines available to you from the API\n",
        "\n",
        "#get hardware meta data\n",
        "print(\"\\nRequesting metadata ...\")\n",
        "api_url_base = 'https://beta.api.vivacitylabs.com'\n",
        "hardware_request = requests.get(f'{api_url_base}/hardware/metadata', headers=headers)\n",
        "if hardware_request.status_code == 401:\n",
        "  print(\"\\n!Error: Can't access the data. Ask customer support if your user is setup correctly on API 3\\n\")\n",
        "hardware = hardware_request.json()\n",
        "\n",
        "# Get hardware info\n",
        "dict_hard = { \"hardware_id\" : [], \"countline_id\" : [], \"countline_name\" : [] }\n",
        "for id in hardware:\n",
        "  for lens in hardware[id][\"view_points\"]:\n",
        "    for entity in hardware[id][\"view_points\"][lens]:\n",
        "      for countline_id in hardware[id][\"view_points\"][lens][\"countlines\"]:\n",
        "        dict_hard[\"hardware_id\"].append(id)\n",
        "        dict_hard[\"countline_id\"].append(countline_id)\n",
        "        dict_hard[\"countline_name\"].append(hardware[id][\"view_points\"][lens][\"countlines\"][countline_id]['name'])\n",
        "\n",
        "#turn into dataframe and clean up\n",
        "df_hard = pd.DataFrame.from_dict(dict_hard)\n",
        "df_hard[\"sensor_name\"] = df_hard[\"countline_name\"]\n",
        "df_hard[\"countline_name_display\"] = df_hard[\"countline_name\"] + \" (\" + df_hard[\"countline_id\"] + \")\"\n",
        "for i in range(len(df_hard)):\n",
        "  if len(df_hard[\"sensor_name\"].iloc[i])>1:\n",
        "    df_hard[\"sensor_name\"].iloc[i] = df_hard[\"sensor_name\"].iloc[i][0] + \"\" + df_hard[\"sensor_name\"].iloc[i][1]\n",
        "  else:\n",
        "    df_hard[\"sensor_name\"].iloc[i] = df_hard[\"sensor_name\"].iloc[i]\n",
        "df_hard = df_hard.drop_duplicates()\n",
        "print(len(df_hard[\"countline_id\"].unique()), \" countlines available\")"
      ],
      "metadata": {
        "id": "1WnJTCv6oKPQ"
      },
      "execution_count": null,
      "outputs": []
    },
    {
      "cell_type": "markdown",
      "metadata": {
        "id": "xohjEFw-Ao6w"
      },
      "source": [
        "#### Select countlines and date range for querying the API\n",
        "\n",
        "\n",
        "After running the code below you can select class and countlines from the dropdown. Also select the start and end dates. Ensure that the start date is before the end date."
      ]
    },
    {
      "cell_type": "code",
      "source": [
        "#@title  { vertical-output: true, display-mode: \"form\" }\n",
        "#@markdown **Code cell:** Run this and then  make your selections\n",
        "\n",
        "#@markdown Note: max speed values cannot be above 160 (for kmh), 100 (for mph) and 44 (for m/s)\n",
        "\n",
        "box_layout = Layout(display='flex', flex_flow='column',\n",
        "                    align_items='stretch', border=None, width='28%')\n",
        "\n",
        "start_date_input = widgets.DatePicker(description=\"Start date\",layout=Layout(width='55%'))\n",
        "end_date_input = widgets.DatePicker(description=\"End date\",layout=Layout(width='55%'))\n",
        "timezone = widgets.Dropdown(options=['Europe/London', \"Europe/Berlin\", \"Australia/Sydney\"],description=\"Timezone\",layout=Layout(width='55%'))\n",
        "timebucket_input = widgets.Dropdown(options=['15m', \"1h\", \"24h\"],description=\"Time bucket\",layout=Layout(width='55%'))\n",
        "unit_input = widgets.Dropdown(options=[\"km/h\",'mph', \"m/s\"],description=\"Speed unit\",layout=Layout(width='55%'))\n",
        "speed_bucket_input = widgets.Dropdown(options=[1,5,10],description=\"Speed bucket\",layout=Layout(width='55%'))\n",
        "max_speed_input = widgets.IntText(value=80, description=\"Max speed\", layout=Layout(width='55%'))\n",
        "\n",
        "class_input = widgets.SelectMultiple(\n",
        "    options=[ \"cyclist\", \"motorbike\", \"car\", \"pedestrian\", \"taxi\", \"van\", \"minibus\", \"bus\", \"rigid\", \"truck\", \"emergency_car\", \"emergency_van\", \"fire_engine\", \"escooter\"],\n",
        "    description='Class',  disabled=False,\n",
        "    layout=Layout(width='55%', height='230px')\n",
        ")\n",
        "countlines_input = widgets.SelectMultiple(\n",
        "    options=df_hard[\"countline_name_display\"].sort_values().unique(),\n",
        "    description='Countlines',\n",
        "    disabled=False,\n",
        "    layout=Layout(width='auto', height='200px')\n",
        ")\n",
        "items = [start_date_input, end_date_input, timezone, timebucket_input, unit_input, speed_bucket_input, max_speed_input, class_input,countlines_input]\n",
        "box = Box(children=items, layout=box_layout)\n",
        "printmd(\"**Select date period and countlines**\")\n",
        "printmd(\"Hold  `Ctrl + Shift`  to select multiple classes or countlines\")\n",
        "print(\"\")\n",
        "box"
      ],
      "metadata": {
        "id": "I4tjuuUio2u7"
      },
      "execution_count": null,
      "outputs": []
    },
    {
      "cell_type": "markdown",
      "source": [
        "Run the cell below to set the input parameters for the API request. Check that they look alright"
      ],
      "metadata": {
        "id": "VVSAsOkapM9f"
      }
    },
    {
      "cell_type": "code",
      "source": [
        "#@title  { vertical-output: true, display-mode: \"form\" }\n",
        "#@markdown **Code cell:** Run this and check your selection again.\n",
        "params = {}\n",
        "params['countline_ids'] = df_hard[df_hard[\"countline_name_display\"].isin(countlines_input.value)][\"countline_id\"].to_list()\n",
        "params['classes'] = list(class_input.value)\n",
        "params['time_bucket'] = timebucket_input.value\n",
        "\n",
        "#set fixed parameters\n",
        "max_speed_calc = int(np.ceil(max_speed_input.value/speed_bucket_input.value)*speed_bucket_input.value)\n",
        "params['max_speed'] = str(max_speed_calc)\n",
        "params['min_speed'] = \"0\"\n",
        "params['speed_bucket_number'] = str(int(max_speed_calc/speed_bucket_input.value))\n",
        "params['fill_zeros'] = \"true\"\n",
        "params['units'] = unit_input.value\n",
        "\n",
        "#convert local datetime to UTC datetime\n",
        "start_date_utc = str(pd.to_datetime(start_date_input.value).tz_localize(timezone.value).astimezone(pytz.utc))\n",
        "end_date_utc = str(pd.to_datetime(end_date_input.value).tz_localize(timezone.value).astimezone(pytz.utc))\n",
        "\n",
        "#check if dates are in correct order\n",
        "if start_date_input.value > end_date_input.value:\n",
        "  print(\"Start date is after end date, please correct your date selection\")\n",
        "else:\n",
        "  date_range = get_date_range(start_date_utc, end_date_utc)\n",
        "  printmd(\"**Check your selection:**\\n\")\n",
        "  print(\"Dates:\", start_date_input.value,\n",
        "        \"to\", end_date_input.value,\n",
        "        \"\\nTimebucket:\", timebucket_input.value,\n",
        "        \"\\nSpeed unit:\", unit_input.value ,\n",
        "         \"\\nMax speed:\", max_speed_input.value ,\n",
        "         \"\\nSpeed bucket size:\", speed_bucket_input.value ,\n",
        "        \"\\nClass:\", class_input.value,\n",
        "        \"\\nCountlines:\", countlines_input.value )"
      ],
      "metadata": {
        "id": "7L2juBOWpRbq"
      },
      "execution_count": null,
      "outputs": []
    },
    {
      "cell_type": "markdown",
      "metadata": {
        "id": "XfRqYcWv1BYd"
      },
      "source": [
        "#### Getting the data\n",
        "\n",
        "Here's the API call to get the countline speed data.\n",
        "\n",
        "The output will tell you how many requests are made and what the progress is."
      ]
    },
    {
      "cell_type": "code",
      "execution_count": null,
      "metadata": {
        "id": "JQnn1ln28KaA"
      },
      "outputs": [],
      "source": [
        "#@title  {vertical-output: true, display-mode: \"form\" }\n",
        "#@markdown **Code cell:** Run this to get data from the API\n",
        "\n",
        "#request data\n",
        "print(\"Requesting data ...\")\n",
        "df_request_all = []\n",
        "for i,date in enumerate(date_range):\n",
        "  time_elapsed = (time.time() - start)\n",
        "  if time_elapsed > 500:\n",
        "    print(\"Reauthorising...\")\n",
        "    auth_response = requests.post(\"https://api.vivacitylabs.com/refresh-token\", data=refresh_body, headers={'Content-Type':'application/x-www-form-urlencoded'})\n",
        "    headers = {}\n",
        "    headers['Authorization'] = \"Bearer \" + auth_response.json()['access_token']\n",
        "    refresh_body = {}\n",
        "    refresh_body['refresh_token'] = auth_response.json()['refresh_token']\n",
        "    start = time.time()\n",
        "    print(\"Done. Got new access token\")\n",
        "  params[\"from\"] = date[0]\n",
        "  params[\"to\"] = date[1]\n",
        "  response = requests.get(\"https://beta.api.vivacitylabs.com/countline/speed\", params=params, headers=headers)\n",
        "  response_json = response.json()\n",
        "\n",
        "  # TODO: Add Try-Error for bad API requests\n",
        "  #from json import JSONDecodeError\n",
        "  #except JSONDecodeError:\n",
        "    #print(\"no data for\",date[0], \"to\", date[1])\n",
        "\n",
        "  #turn into dataframe\n",
        "  df_request = {\"countline_id\" : [], \"date\":[], \"timefrom\": [], \"timeto\": [], \"classes\": [],\n",
        "                \"direction\": [], \"mean\":[], \"85percentile\":[], \"speed_buckets\":[]}\n",
        "  for countline in response_json:\n",
        "      for buckets in response_json[countline]:\n",
        "          for _class in buckets[\"clockwise\"].keys():\n",
        "              df_request[\"countline_id\"].append(countline)\n",
        "              df_request[\"date\"].append(pd.to_datetime(buckets[\"from\"]).tz_convert(timezone.value).date())\n",
        "              df_request[\"timefrom\"].append(pd.to_datetime(buckets[\"from\"]).tz_convert(timezone.value).time())\n",
        "              df_request[\"timeto\"].append(pd.to_datetime(buckets[\"to\"]).tz_convert(timezone.value).time())\n",
        "              df_request[\"classes\"].append(_class)\n",
        "              df_request[\"direction\"].append(\"In\")\n",
        "              df_request[\"mean\"].append(buckets[\"clockwise\"][_class][\"mean\"])\n",
        "              df_request[\"85percentile\"].append(buckets[\"clockwise\"][_class][\"p85\"])\n",
        "              df_request[\"speed_buckets\"].append(buckets[\"clockwise\"][_class][\"speed_bins\"])\n",
        "          for _class in buckets[\"anti_clockwise\"].keys():\n",
        "              df_request[\"countline_id\"].append(countline)\n",
        "              df_request[\"date\"].append(pd.to_datetime(buckets[\"from\"]).tz_convert(timezone.value).date())\n",
        "              df_request[\"timefrom\"].append(pd.to_datetime(buckets[\"from\"]).tz_convert(timezone.value).time())\n",
        "              df_request[\"timeto\"].append(pd.to_datetime(buckets[\"to\"]).tz_convert(timezone.value).time())\n",
        "              df_request[\"classes\"].append(_class)\n",
        "              df_request[\"direction\"].append(\"Out\")\n",
        "              df_request[\"mean\"].append(buckets[\"anti_clockwise\"][_class][\"mean\"])\n",
        "              df_request[\"85percentile\"].append(buckets[\"anti_clockwise\"][_class][\"p85\"])\n",
        "              df_request[\"speed_buckets\"].append(buckets[\"anti_clockwise\"][_class][\"speed_bins\"])\n",
        "  df_request = pd.DataFrame.from_dict(df_request)\n",
        "  df_request_all.append(df_request)   #append all dataframes\n",
        "\n",
        "  #print progress\n",
        "  print(str(i+1) + \"/\" + str(len(date_range)) + \": \" + str(response.status_code) + \" \" + response.reason)\n",
        "  time.sleep(1)\n",
        "\n",
        "print(\"Converting into dataframe ...\")\n",
        "#return single dataframe\n",
        "df_request_all = pd.concat(df_request_all, axis=0).reset_index(drop=True)\n",
        "df_request_all = df_request_all.join(pd.json_normalize(df_request_all['speed_buckets'])) #expand data to columns\n",
        "df_request_all = df_request_all.drop(columns=\"speed_buckets\")\n",
        "\n",
        "#error when no data returned\n",
        "if len(df_request_all)==0:\n",
        "  print(\"Note: No data returned for set parameters (date, countlines, classes). Please run a different request.\")\n",
        "else:\n",
        "  print(\"Done\")"
      ]
    },
    {
      "cell_type": "markdown",
      "metadata": {
        "id": "CnI-EFqr0nxu"
      },
      "source": [
        "## Stage 3: Data Processing\n",
        "Now we process the raw data output and calculate the average speeds per time bucket as well as counts in speed bins."
      ]
    },
    {
      "cell_type": "markdown",
      "metadata": {
        "id": "JG45K9_NKV5Z"
      },
      "source": [
        "You can chose to collapse detailed classes into 8 road user groups as displayed on the dashboard. Depending on the size of your data, this step may take a while"
      ]
    },
    {
      "cell_type": "code",
      "source": [
        "#@title { vertical-output: true, display-mode: \"form\" }\n",
        "#@markdown **Code cell:** Select if you want to collapse classes and run to clean data for export.\n",
        "collapse_classes = \"yes\" #@param [ \"yes\", \"no\"]\n",
        "df_speed = df_request_all.copy()\n",
        "\n",
        "print(\"Processing ...\")\n",
        "\n",
        "# get speed bucket columns\n",
        "bucket_columns = df_speed.columns[8:]\n",
        "\n",
        "# calculate total counts and summed mean/85percentile\n",
        "df_speed[\"total_counts\"] = df_speed[bucket_columns].sum(axis=1)\n",
        "df_speed[\"mean_summed\"] = df_speed[\"mean\"] * df_speed[\"total_counts\"]\n",
        "df_speed[\"85percentile_summed\"] = df_speed[\"85percentile\"] * df_speed[\"total_counts\"]\n",
        "\n",
        "# dictionary to hold method of aggregation\n",
        "agg_dict = {\"mean_summed\": \"sum\", \"85percentile_summed\": \"sum\", \"total_counts\": \"sum\"}\n",
        "for bucket_column in bucket_columns:\n",
        "  agg_dict[bucket_column] = \"sum\"\n",
        "\n",
        "#create new column with collapsed classes and sum data\n",
        "collapsed_classes = {\"pedestrian\":\"Pedestrian\",\"cyclist\":\"Cyclist\",\"e-scooter\":\"Pedestrian\", \"motorbike\":\"Motorbike\",\"car\":\"Car\",\"taxi\":\"Car\",\n",
        "                     \"emergency_car\":\"Car\",\"van\":\"LGV\",\"emergency_van\":\"LGV\",\n",
        "                     \"bus\":\"Bus\",\"minibus\":\"Bus\",\"rigid\":\"OGV1\",\"fire_engine\":\"OGV1\",\"truck\":\"OGV2\",\n",
        "                     \"total\":\"Total\",}\n",
        "if collapse_classes == \"yes\":\n",
        "  df_speed[\"class\"] = df_speed[\"classes\"].map(collapsed_classes)\n",
        "  df_speed = df_speed.groupby(\n",
        "      ['countline_id', 'date', 'timefrom', 'timeto', 'class', 'direction']).agg(agg_dict).reset_index()\n",
        "else:\n",
        "  df_speed = df_speed.rename(columns={\"classes\":\"class\"})\n",
        "  df_speed = df_speed.drop(columns=[\"mean\", \"85percentile\"])\n",
        "\n",
        "# add values for both directions and add to dataframe\n",
        "df_speed_dir = df_speed.groupby(\n",
        "    ['countline_id','date', 'timefrom', 'timeto', 'class']).agg(agg_dict).reset_index()\n",
        "df_speed_dir[\"direction\"] =  \"Both\"\n",
        "df_speed = pd.concat(\n",
        "    [df_speed,df_speed_dir], axis=0).sort_values(\n",
        "        by=['countline_id', 'date', 'timefrom', 'timeto', 'class']).reset_index(drop=True)\n",
        "\n",
        "# convert summed aggregates back to average\n",
        "df_speed[\"mean_summed\"] = np.round(df_speed[\"mean_summed\"] / df_speed[\"total_counts\"],3)\n",
        "df_speed[\"85percentile_summed\"] = np.round(df_speed[\"85percentile_summed\"] / df_speed[\"total_counts\"],3)\n",
        "df_speed = df_speed.rename(columns={\"mean_summed\": \"mean\", \"85percentile_summed\": \"85percentile\"})\n",
        "\n",
        "print(\"Cleaning up ...\")\n",
        "\n",
        "# order speed bucket columns by value\n",
        "colname_dict = {}\n",
        "for bucket_column in bucket_columns:\n",
        "  colname_dict[bucket_column] = int(float(bucket_column))\n",
        "df_speed = df_speed.rename(columns=colname_dict)\n",
        "column_order = ['countline_id', 'date', 'timefrom', 'timeto', 'class', 'direction','total_counts', 'mean', '85percentile'] + sorted(colname_dict.values())\n",
        "df_speed = df_speed[column_order]\n",
        "\n",
        "# rename speed bucket columns\n",
        "colname_dict_final = {}\n",
        "for bucket_column in sorted(colname_dict.values()):\n",
        "  colname_dict_final[bucket_column] = str(bucket_column)+ \"-\"+ str(bucket_column + speed_bucket_input.value)\n",
        "df_speed = df_speed.rename(columns=colname_dict_final)\n",
        "\n",
        "print(\"Done. File ready for export.\")"
      ],
      "metadata": {
        "id": "Sw-gs7Am0pik"
      },
      "execution_count": null,
      "outputs": []
    },
    {
      "cell_type": "markdown",
      "metadata": {
        "id": "9YNEW3qFGykk"
      },
      "source": [
        "## Stage 4: Data Export\n",
        "Now let's write this to a .csv file. You can either save the file locally (it will show in your Downloads folder) or save it to a Google Drive.\n",
        "\n",
        "\n",
        "* **Local Downloads Folder:** This might not work if your browser or computer blocking downloads.\n",
        "* **Google Drive:** If you want to save it in Google Drive, you will be asked for permission to connect to your Google Account."
      ]
    },
    {
      "cell_type": "code",
      "execution_count": null,
      "metadata": {
        "id": "qIhjk_AZUUe_"
      },
      "outputs": [],
      "source": [
        "#@title  { vertical-output: true, display-mode: \"form\" }\n",
        "#@markdown Select where to save the csv file\n",
        "download_location = \"Local folder\" #@param [ \"Local folder\", \"Google Drive\"]\n",
        "#@markdown Name your file\n",
        "filename = \"countline-speeds\" #@param {type:\"string\"}\n",
        "#@markdown Hit run (>)\n",
        "df_speed_final = df_speed.copy()\n",
        "\n",
        "if download_location == \"Local folder\":\n",
        "  from google.colab import files\n",
        "  df_speed_final.to_csv(filename + \".csv\", index = False)\n",
        "  files.download(filename + \".csv\")\n",
        "else:\n",
        "  from google.colab import drive\n",
        "  drive.mount('/content/drive')\n",
        "  path = '/content/drive/My Drive/'\n",
        "  df_speed_final.to_csv(path + filename +\".csv\", index = False)"
      ]
    }
  ],
  "metadata": {
    "colab": {
      "provenance": [],
      "include_colab_link": true
    },
    "kernelspec": {
      "display_name": "Python 3",
      "name": "python3"
    },
    "language_info": {
      "name": "python"
    }
  },
  "nbformat": 4,
  "nbformat_minor": 0
}