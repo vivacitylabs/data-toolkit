{
  "cells": [
    {
      "cell_type": "markdown",
      "metadata": {
        "id": "view-in-github",
        "colab_type": "text"
      },
      "source": [
        "<a href=\"https://colab.research.google.com/github/vivacitylabs/data-toolkit/blob/master/notebooks/classified_counts_bulk_download_generator.ipynb\" target=\"_parent\"><img src=\"https://colab.research.google.com/assets/colab-badge.svg\" alt=\"Open In Colab\"/></a>"
      ]
    },
    {
      "cell_type": "markdown",
      "metadata": {
        "id": "swMyhc_6p4SZ"
      },
      "source": [
        "# Classified Counts - Bulk Download Generator\n",
        "\n"
      ]
    },
    {
      "cell_type": "markdown",
      "metadata": {
        "id": "f4ZN3B2nO3_1"
      },
      "source": [
        "## Generate a csv file of Classified Counts data over multiple days"
      ]
    },
    {
      "cell_type": "markdown",
      "metadata": {
        "id": "rPUGheZbGhnG"
      },
      "source": [
        "This notebook is a tool to access VivaCity data via the API. It is aimed as an **interim solution** while we're working on new dashboard developments. You can contact customer support if you have any issues (support@vivacitylabs.com) or raise a ticked on the [Customer Help Portal](https://vivacitylabs.atlassian.net/servicedesk/customer/portal/16).\n",
        "\n",
        "Use this notebook only if you need one of the T14 classes that can't be downloaded via the dashboard."
      ]
    },
    {
      "cell_type": "markdown",
      "metadata": {
        "id": "owGXUfxaRzlG"
      },
      "source": [
        "#### How it works"
      ]
    },
    {
      "cell_type": "markdown",
      "metadata": {
        "id": "waNUJf0ZOFHa"
      },
      "source": [
        "This notebook will run you through all the necessary steps and will save the output csv file locally or in your Google Drive.\n",
        "\n",
        "You will simply need to fill in a few details and then hit the run button next to the code cells.\n",
        "\n",
        "**What you will need**\n",
        "\n",
        "- VivaCity API login credentials\n",
        "- Countline ids you want to download data for\n"
      ]
    },
    {
      "cell_type": "markdown",
      "metadata": {
        "id": "Xi8YdeTmRwNr"
      },
      "source": [
        "#### Output format"
      ]
    },
    {
      "cell_type": "markdown",
      "metadata": {
        "id": "I9ryHNRfRjWw"
      },
      "source": [
        "The output file will look something like this."
      ]
    },
    {
      "cell_type": "markdown",
      "metadata": {
        "id": "lmzYubsdPDFg"
      },
      "source": [
        "| Local Datetime |  CountlineId | countlineName | direction |  car |\tcyclist | motorbike | taxi |\n",
        "|:---------:|:---------:|:---------:|:---------:|:---------:|:---------:|:---------:|:---------:|\n",
        "|\t2023-02-20 00:00:00 | 53241\t| S1_highstreet | in |\t8 | 3 | 1\t| 0 |\n",
        "\n",
        "\n"
      ]
    },
    {
      "cell_type": "markdown",
      "metadata": {
        "id": "p-2otBZMqfTH"
      },
      "source": [
        "## Stage 1: Getting Started\n",
        "Let's begin by importing the packages we'll need and creating some useful functions!\n",
        "\n",
        "Hit the run button (▶) in the top left corner."
      ]
    },
    {
      "cell_type": "code",
      "execution_count": null,
      "metadata": {
        "id": "UXc72Xjuqikg"
      },
      "outputs": [],
      "source": [
        "#@title  { vertical-output: true, display-mode: \"form\" }\n",
        "#@markdown **Code cell:** Run this to import functions\n",
        "import requests\n",
        "import getpass\n",
        "import json\n",
        "import pandas as pd\n",
        "from datetime import date, datetime, timedelta\n",
        "import csv\n",
        "import time\n",
        "import pytz\n",
        "from IPython.display import Markdown, display\n",
        "from tqdm import tqdm\n",
        "from collections import deque\n",
        "def printmd(string):\n",
        "    display(Markdown(string))\n",
        "from ipywidgets import interact, interactive, fixed, interact_manual, Layout, Box\n",
        "import ipywidgets as widgets\n",
        "\n",
        "def get_date_range(start_date, end_date):\n",
        "    start_dates = []\n",
        "    end_dates = []\n",
        "\n",
        "    start_date = datetime.fromisoformat(start_date)\n",
        "    end_date = datetime.fromisoformat(end_date)\n",
        "    while True:\n",
        "        start_dates.append(start_date.strftime('%Y-%m-%dT%H:%M:%S.000Z'))\n",
        "        end_dates.append((start_date+timedelta(days=1)).strftime('%Y-%m-%dT%H:%M:%S.000Z'))\n",
        "        start_date = start_date+timedelta(days=1)\n",
        "        if start_date > end_date:\n",
        "            break\n",
        "    date_range = list(zip(start_dates, end_dates))\n",
        "    return date_range"
      ]
    },
    {
      "cell_type": "markdown",
      "metadata": {
        "id": "ceKN_3fHqlP6"
      },
      "source": [
        "## Stage 2: Data Import\n",
        "\n",
        "First, we'll input the api username and password. Contact customer support (support@vivacitylabs.com) if you don't have these details.\n",
        "\n",
        "We will then request all countlines the user has access to. If some countlines are missing, get in touch with us.\n",
        "\n",
        "Finally, you will select the date period, countlines and classes to request data for."
      ]
    },
    {
      "cell_type": "markdown",
      "metadata": {
        "id": "zSCZ0-x1tf0l"
      },
      "source": [
        "### Authentication\n",
        "Now you will need your API login details, ie. a username and a password. If you don't have one, please contact contact customer support (support@vivacitylabs.com).\n",
        "\n",
        "1.   Input your API Key into the box.\n",
        "1.   Hit the run button (▶).\n"
      ]
    },
    {
      "cell_type": "code",
      "execution_count": null,
      "metadata": {
        "id": "i8mP6EzKE-MX"
      },
      "outputs": [],
      "source": [
        "#@title  { run: \"auto\", vertical-output: true, display-mode: \"form\" }\n",
        "#@markdown Insert your login credentials\n",
        "api_key = \"\" #@param {type:\"string\"}"
      ]
    },
    {
      "cell_type": "markdown",
      "metadata": {
        "id": "qGPQI-8zq6mV"
      },
      "source": [
        "#### Available Countlines\n",
        "\n",
        "Get access token using our username and password and get all countlines user has access to."
      ]
    },
    {
      "cell_type": "code",
      "execution_count": null,
      "metadata": {
        "id": "Ga3E6UcjwgUD"
      },
      "outputs": [],
      "source": [
        "#@title  { vertical-output: true, display-mode: \"form\" }\n",
        "#@markdown **Code cell:** Run this to retrieve all countlines\n",
        "\n",
        "headers = {}\n",
        "headers['x-vivacity-api-key'] = api_key\n",
        "\n",
        "#get sensor meta data\n",
        "print(\"\\nRequesting metadata ...\")\n",
        "api_url_base = 'https://api.vivacitylabs.com'\n",
        "countline_request = requests.get(f'{api_url_base}/countline/metadata', headers=headers)\n",
        "countlines = countline_request.json()\n",
        "\n",
        "#convert to dataframe\n",
        "dict_countlines = {\"countline_id\": [], \"countline_name\": [], \"countline_direction\": []}\n",
        "for id in countlines:\n",
        "  dict_countlines[\"countline_id\"].append(id)\n",
        "  dict_countlines[\"countline_name\"].append(countlines[id][\"name\"])\n",
        "  dict_countlines[\"countline_direction\"].append(countlines[id][\"direction\"])\n",
        "df_countlines = pd.DataFrame.from_dict(dict_countlines)\n",
        "print(len(df_countlines[\"countline_id\"].unique()), \" countlines available\")"
      ]
    },
    {
      "cell_type": "markdown",
      "metadata": {
        "id": "xohjEFw-Ao6w"
      },
      "source": [
        "#### Select countlines and date range for querying the API\n",
        "\n",
        "\n",
        "After running the code below you can select class and countlines from the dropdown. Also select the start and end dates. Ensure that the start date is before the end date.  "
      ]
    },
    {
      "cell_type": "code",
      "execution_count": null,
      "metadata": {
        "id": "cttvRch0VS-e"
      },
      "outputs": [],
      "source": [
        "#@title  { vertical-output: true, display-mode: \"form\" }\n",
        "#@markdown **Code cell:** Run this and then  make your selections\n",
        "\n",
        "box_layout = Layout(display='flex', flex_flow='column',\n",
        "                    align_items='stretch', border=None, width='28%')\n",
        "\n",
        "start_date_input = widgets.DatePicker(description=\"Start date\",layout=Layout(width='55%'))\n",
        "end_date_input = widgets.DatePicker(description=\"End date\",layout=Layout(width='55%'))\n",
        "timezone = widgets.Dropdown(options=['Europe/London', \"Europe/Berlin\", \"America/New_York\",\n",
        "                                     \"Australia/Adelaide\",\"Australia/Brisbane\", \"Australia/Darwin\",\n",
        "                                     \"Australia/Melbourne\", \"Australia/Perth\", \"Australia/Sydney\"\n",
        "                                     ],description=\"Timezone\",layout=Layout(width='55%'))\n",
        "\n",
        "class_input = widgets.SelectMultiple(\n",
        "    options=[ \"cyclist\", \"motorbike\", \"car\", \"pedestrian\", \"taxi\", \"van\", \"minibus\", \"bus\", \"rigid\", \"truck\", \"emergency_car\", \"emergency_van\", \"fire_engine\", \"escooter\"],\n",
        "    description='Class',  disabled=False,\n",
        "    layout=Layout(width='55%', height='230px')\n",
        ")\n",
        "countlines_input = widgets.SelectMultiple(\n",
        "    options=df_countlines.sort_values(\"countline_name\")[\"countline_name\"].unique(),\n",
        "    description='Countlines',\n",
        "    disabled=False,\n",
        "    layout=Layout(width='auto', height='200px')\n",
        ")\n",
        "items = [start_date_input, end_date_input, timezone, class_input,countlines_input]\n",
        "box = Box(children=items, layout=box_layout)\n",
        "printmd(\"**Select date period and countlines**\")\n",
        "printmd(\"Hold  `Ctrl + Shift`  to select multiple classes or countlines\")\n",
        "box"
      ]
    },
    {
      "cell_type": "markdown",
      "metadata": {
        "id": "TKlnmGR1SePK"
      },
      "source": [
        "Run the cell below to set the input parameters for the API request. Check that they look alright."
      ]
    },
    {
      "cell_type": "code",
      "execution_count": null,
      "metadata": {
        "id": "PXOLcJ5r3AHr"
      },
      "outputs": [],
      "source": [
        "#@title  { vertical-output: true, display-mode: \"form\" }\n",
        "#@markdown **Code cell:** Run this and check your selection again.\n",
        "\n",
        "params = {}\n",
        "params['countline_ids'] = df_countlines[df_countlines[\"countline_name\"].isin(countlines_input.value)][\"countline_id\"].to_list()\n",
        "params['class'] = list(class_input.value)\n",
        "params[\"includeZeroCounts\"] = True\n",
        "\n",
        "#convert local datetime to UTC datetime\n",
        "start_date_utc = str(pd.to_datetime(start_date_input.value).tz_localize(timezone.value).astimezone(pytz.utc))\n",
        "end_date_utc = str(pd.to_datetime(end_date_input.value).tz_localize(timezone.value).astimezone(pytz.utc))\n",
        "\n",
        "#check if dates are in correct order\n",
        "if start_date_input.value > end_date_input.value:\n",
        "  print(\"Start date is after end date, please correct your date selection\")\n",
        "else:\n",
        "  date_range = get_date_range(start_date_utc, end_date_utc)\n",
        "  printmd(\"**Check your selection:**\\n\")\n",
        "  print(\"Dates:\", start_date_input.value, \"to\", end_date_input.value, \"\\nClass:\", class_input.value, \"\\nCountlines:\", countlines_input.value )"
      ]
    },
    {
      "cell_type": "markdown",
      "metadata": {
        "id": "XfRqYcWv1BYd"
      },
      "source": [
        "### Getting the data\n",
        "\n",
        "We now query Classified Counts data from the API.\n",
        "\n",
        "The output will tell you how many requests are made and what the progress is."
      ]
    },
    {
      "cell_type": "code",
      "execution_count": null,
      "metadata": {
        "id": "JQnn1ln28KaA"
      },
      "outputs": [],
      "source": [
        "#@title  {vertical-output: true, display-mode: \"form\" }\n",
        "#@markdown **Code cell:** Run this to get data from the API\n",
        "\n",
        "max_requests_per_minute=290\n",
        "data = []\n",
        "start_time = time.time()\n",
        "\n",
        "# Initialize request tracking\n",
        "request_times = deque(maxlen=max_requests_per_minute)\n",
        "min_request_interval = 60 / max_requests_per_minute  # seconds between requests\n",
        "\n",
        "def wait_for_rate_limit():\n",
        "    \"\"\"Ensure we don't exceed max_requests_per_minute\"\"\"\n",
        "    if len(request_times) >= max_requests_per_minute:\n",
        "        # Calculate time since oldest request\n",
        "        elapsed = time.time() - request_times[0]\n",
        "        if elapsed < 60:  # If less than a minute has passed\n",
        "            sleep_time = 60 - elapsed\n",
        "            time.sleep(sleep_time)\n",
        "        # Clear old requests outside the 1-minute window\n",
        "        while request_times and time.time() - request_times[0] > 60:\n",
        "            request_times.popleft()\n",
        "\n",
        "    # Ensure minimum interval between requests\n",
        "    if request_times:\n",
        "        time_since_last = time.time() - request_times[-1]\n",
        "        if time_since_last < min_request_interval:\n",
        "            time.sleep(min_request_interval - time_since_last)\n",
        "\n",
        "# Use tqdm for progress tracking\n",
        "for i, date in enumerate(tqdm(date_range, desc=\"Collecting data\")):\n",
        "    # Wait for rate limit before making request\n",
        "    wait_for_rate_limit()\n",
        "\n",
        "    # Update parameters for this request\n",
        "    current_params = params.copy()\n",
        "    current_params[\"from\"] = date[0]\n",
        "    current_params[\"to\"] = date[1]\n",
        "    current_params[\"time_bucket\"] = \"15m\"\n",
        "    current_params[\"vivacityNotebookSource\"] = \"counts\"\n",
        "\n",
        "    try:\n",
        "        # Record request time\n",
        "        request_times.append(time.time())\n",
        "\n",
        "        response = requests.get(\n",
        "            'https://api.vivacitylabs.com/countline/counts',\n",
        "            params=current_params,\n",
        "            headers=headers,\n",
        "            timeout=30\n",
        "        )\n",
        "\n",
        "        # Log progress\n",
        "        print(f\"{i+1}/{len(date_range)}: {response.status_code} {response.reason}\")\n",
        "\n",
        "        if response.status_code == 200:\n",
        "            json_counts = response.json()\n",
        "\n",
        "            df_request = {\n",
        "                \"countline_id\": [],\n",
        "                \"timefrom\": [],\n",
        "                \"timeto\": [],\n",
        "                \"classes\": [],\n",
        "                \"out\": [],\n",
        "                \"in\": []\n",
        "            }\n",
        "\n",
        "            for countline_id, timeframes in json_counts.items():\n",
        "                for timeframe in timeframes:\n",
        "                    vehicle_classes = set(timeframe[\"anti_clockwise\"].keys())\n",
        "\n",
        "                    for vehicle_class in vehicle_classes:\n",
        "                        df_request[\"countline_id\"].append(countline_id)\n",
        "                        df_request[\"timefrom\"].append(timeframe[\"from\"])\n",
        "                        df_request[\"timeto\"].append(timeframe[\"to\"])\n",
        "                        df_request[\"classes\"].append(vehicle_class)\n",
        "                        df_request[\"out\"].append(timeframe[\"anti_clockwise\"].get(vehicle_class, 0))\n",
        "                        df_request[\"in\"].append(timeframe[\"clockwise\"].get(vehicle_class, 0))\n",
        "\n",
        "            if any(len(v) > 0 for v in df_request.values()):\n",
        "                df_request = pd.DataFrame.from_dict(df_request)\n",
        "                data.append(df_request)\n",
        "            else:\n",
        "                print(f\"Warning: Empty data for {date[0]} to {date[1]}\")\n",
        "        else:\n",
        "            print(f\"Data missing for {date[0].split('T')[0]} to {date[1].split('T')[0]}\")\n",
        "\n",
        "    except requests.exceptions.RequestException as e:\n",
        "        print(f\"Error during request: {e}\")\n",
        "        print(f\"Failed request parameters: {current_params}\")\n",
        "        continue\n",
        "\n",
        "# Combine all DataFrames\n",
        "if data:\n",
        "    final_df = pd.concat(data, ignore_index=True)\n",
        "\n",
        "    # Convert datetime columns\n",
        "    for col in ['timefrom', 'timeto']:\n",
        "        final_df[col] = pd.to_datetime(final_df[col])\n",
        "\n",
        "    # Log completion\n",
        "    elapsed_time = time.time() - start_time\n",
        "    print(f\"\\nData collection completed in {elapsed_time:.2f} seconds\")\n",
        "    print(f\"Total records collected: {len(final_df)}\")\n",
        "\n",
        "else:\n",
        "    print(\"No data was collected successfully\")"
      ]
    },
    {
      "cell_type": "markdown",
      "metadata": {
        "id": "CnI-EFqr0nxu"
      },
      "source": [
        "## Stage 3: Data Processing\n",
        "Now we process the raw data output and put it into a nice format. Here you can select a desired time bucket.\n"
      ]
    },
    {
      "cell_type": "code",
      "execution_count": null,
      "metadata": {
        "id": "_PF24qVJi9-c"
      },
      "outputs": [],
      "source": [
        "#@title  {vertical-output: true, display-mode: \"form\" }\n",
        "#@markdown Select time bucket and run data processing\n",
        "time_bucket = \"1h\" #@param [\"15m\", \"1h\", \"24h\"]\n",
        "\n",
        "# Convert UTC to local time (using timezone from variable)\n",
        "final_df['Local Datetime'] = pd.to_datetime(final_df['timefrom']).dt.tz_convert(timezone.value)\n",
        "\n",
        "# Resample based on selected time bucket\n",
        "if time_bucket == \"15m\":\n",
        "    groupby_cols = ['timefrom', 'Local Datetime', 'countline_id']\n",
        "elif time_bucket == \"1h\":\n",
        "    # Round to nearest hour\n",
        "    final_df['timefrom'] = pd.to_datetime(final_df['timefrom']).dt.floor('H',ambiguous=True)\n",
        "    final_df['Local Datetime'] = final_df['Local Datetime'].dt.floor('H',ambiguous=True)\n",
        "    groupby_cols = ['timefrom', 'Local Datetime', 'countline_id']\n",
        "else:  # 24h\n",
        "    # Round to nearest day\n",
        "    final_df['timefrom'] = pd.to_datetime(final_df['timefrom']).dt.floor('D')\n",
        "    final_df['Local Datetime'] = final_df['Local Datetime'].dt.floor('D')\n",
        "    groupby_cols = ['timefrom', 'Local Datetime', 'countline_id']\n",
        "\n",
        "# Create pivot table for each direction\n",
        "out_pivot = final_df.pivot_table(\n",
        "    index=groupby_cols,\n",
        "    columns='classes',\n",
        "    values='out',\n",
        "    aggfunc='sum',\n",
        "    fill_value=0\n",
        ").reset_index()\n",
        "\n",
        "in_pivot = final_df.pivot_table(\n",
        "    index=groupby_cols,\n",
        "    columns='classes',\n",
        "    values='in',\n",
        "    aggfunc='sum',\n",
        "    fill_value=0\n",
        ").reset_index()\n",
        "\n",
        "# Add direction column\n",
        "out_pivot['direction'] = 'out'\n",
        "in_pivot['direction'] = 'in'\n",
        "\n",
        "# Combine the directions\n",
        "export = pd.concat([out_pivot, in_pivot], ignore_index=True)\n",
        "\n",
        "# Rename columns\n",
        "export = export.rename(columns={\n",
        "    'timefrom': 'UTC Datetime',\n",
        "    'countline_id': 'countlineId'\n",
        "})\n",
        "\n",
        "# Add countlineName column (you'll need to fill this with actual names if available)\n",
        "export['countlineName'] = export['countlineId']\n",
        "\n",
        "# Sort columns in desired order\n",
        "first_cols = ['UTC Datetime', 'Local Datetime', 'countlineId', 'countlineName', 'direction']\n",
        "class_cols = [col for col in export.columns if col not in first_cols]\n",
        "export = export[first_cols + sorted(class_cols)]\n",
        "\n",
        "# Sort by datetime and countlineId\n",
        "export = export.sort_values(['UTC Datetime', 'countlineId', 'direction']).reset_index(drop=True)\n",
        "\n",
        "# Preview the first few rows\n",
        "print(f\"Preview of export DataFrame (time bucket: {time_bucket}):\")\n",
        "print(export.head(100))\n",
        "print(\"\\nShape:\", export.shape)"
      ]
    },
    {
      "cell_type": "markdown",
      "metadata": {
        "id": "9YNEW3qFGykk"
      },
      "source": [
        "## Stage 4: Data Export\n",
        "Now let's write this to a .csv file. You can either save the file locally (it will show in your Downloads folder) or save it to a Google Drive.\n",
        "\n",
        "- **Local Downloads Folder:** This might not work if your browser or computer blocking downloads.\n",
        "\n",
        "- **Google Drive:** If you want to save it in Google Drive, you will be asked for permission to connect to your Google Account.\n",
        "\n",
        "\n"
      ]
    },
    {
      "cell_type": "code",
      "execution_count": null,
      "metadata": {
        "id": "H_M2lLv6Poaq"
      },
      "outputs": [],
      "source": [
        "#@title  { vertical-output: true, display-mode: \"form\" }\n",
        "#@markdown Select where to save the csv file\n",
        "download_location = \"Local folder\" #@param [ \"Local folder\", \"Google Drive\"]\n",
        "#@markdown Name your file\n",
        "filename = \"\" #@param {type:\"string\"}\n",
        "#@markdown Hit run (>)\n",
        "if download_location == \"Local folder\":\n",
        "  from google.colab import files\n",
        "  export.to_csv(filename + \".csv\", index = False)\n",
        "  files.download(filename + \".csv\")\n",
        "else:\n",
        "  from google.colab import drive\n",
        "  drive.mount('/content/drive')\n",
        "  path = '/content/drive/My Drive/'\n",
        "  export.to_csv(path + filename +\".csv\", index = False)"
      ]
    }
  ],
  "metadata": {
    "colab": {
      "provenance": [],
      "include_colab_link": true
    },
    "kernelspec": {
      "display_name": "Python 3",
      "name": "python3"
    },
    "language_info": {
      "name": "python"
    }
  },
  "nbformat": 4,
  "nbformat_minor": 0
}