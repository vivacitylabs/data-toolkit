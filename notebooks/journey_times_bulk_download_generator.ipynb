{
  "cells": [
    {
      "cell_type": "markdown",
      "metadata": {
        "id": "view-in-github",
        "colab_type": "text"
      },
      "source": [
        "<a href=\"https://colab.research.google.com/github/vivacitylabs/data-toolkit/blob/master/notebooks/journey_times_bulk_download_generator.ipynb\" target=\"_parent\"><img src=\"https://colab.research.google.com/assets/colab-badge.svg\" alt=\"Open In Colab\"/></a>"
      ]
    },
    {
      "cell_type": "markdown",
      "metadata": {
        "id": "swMyhc_6p4SZ"
      },
      "source": [
        "# Journey Times - Bulk Download Generator\n",
        "\n"
      ]
    },
    {
      "cell_type": "markdown",
      "metadata": {
        "id": "f4ZN3B2nO3_1"
      },
      "source": [
        "## Generate a csv file of Journey Times data over multiple days"
      ]
    },
    {
      "cell_type": "markdown",
      "metadata": {
        "id": "rPUGheZbGhnG"
      },
      "source": [
        "This notebook is a tool to access VivaCity data via the API. It is aimed as an **interim solution** while we're working on new dashboard developments. You can contact your customer success manager for more information.\n",
        "\n",
        "This notebook only works for sensors that have [Journey Times](https://vivacitylabs.customerly.help/vivacity-dashboard/journey-times) enabled, but the dropdowns will list all existing sensors."
      ]
    },
    {
      "cell_type": "markdown",
      "metadata": {
        "id": "owGXUfxaRzlG"
      },
      "source": [
        "#### How it works"
      ]
    },
    {
      "cell_type": "markdown",
      "metadata": {
        "id": "waNUJf0ZOFHa"
      },
      "source": [
        "This notebook will run you through all the necessary steps and will save a csv file locally or in your Google Drive.\n",
        "\n",
        "You will need to fill in a few details and then hit the run button (▶) next to the code cells.\n",
        "\n",
        "If you want to make changes to the code and save them, you will first need to save a copy of this notebook to your Google Drive."
      ]
    },
    {
      "cell_type": "markdown",
      "metadata": {
        "id": "5mrW1vbN28lk"
      },
      "source": [
        "**What you will need**\n",
        "\n",
        "- VivaCity API login credentials\n",
        "- Sensor combinations you want to download data for"
      ]
    },
    {
      "cell_type": "markdown",
      "metadata": {
        "id": "Xi8YdeTmRwNr"
      },
      "source": [
        "#### Output format"
      ]
    },
    {
      "cell_type": "markdown",
      "metadata": {
        "id": "I9ryHNRfRjWw"
      },
      "source": [
        "You will receive the median journey times between two sensors in 1 hour time buckets for your selected date period. The data is provided in **Local Datetime.**"
      ]
    },
    {
      "cell_type": "markdown",
      "metadata": {
        "id": "lmzYubsdPDFg"
      },
      "source": [
        "\n",
        "\n",
        "| Start Date | Start time | End time | Origin sensor |  Destination sensor |\tMedian journey time in seconds |\tNumber of journeys|\n",
        "|:---------:|:---------:|:---------:|:---------:|:---------:|:---------:|:---------:|\n",
        "| 02/03/2022 |10:00:00\t| 11:00:00|\tRBK1 ClarenceSt | RBK2 WheatfieldWay | 1995.581055\t|1\t|"
      ]
    },
    {
      "cell_type": "markdown",
      "metadata": {
        "id": "p-2otBZMqfTH"
      },
      "source": [
        "## Stage 1: Getting Started\n",
        "Let's begin by importing the packages we'll need and creating some useful functions!\n",
        "\n",
        "Hit the run button (▶) in the top left corner."
      ]
    },
    {
      "cell_type": "code",
      "execution_count": null,
      "metadata": {
        "id": "UXc72Xjuqikg"
      },
      "outputs": [],
      "source": [
        "#@title { vertical-output: false, display-mode: \"form\" }\n",
        "#@markdown **Code cell:** Run this to import functions and connect to Google Drive\n",
        "import requests\n",
        "import getpass\n",
        "import json\n",
        "import pandas as pd\n",
        "from datetime import date, datetime, timedelta\n",
        "import csv\n",
        "import time\n",
        "import pytz\n",
        "from ipywidgets import interact, interactive, fixed, interact_manual\n",
        "import ipywidgets as widgets\n",
        "\n",
        "def get_date_range(start_date, end_date):\n",
        "    start_dates = []\n",
        "    end_dates = []\n",
        "\n",
        "    start_date = datetime.fromisoformat(start_date)\n",
        "    end_date = datetime.fromisoformat(end_date)\n",
        "\n",
        "    while True:\n",
        "        start_dates.append(start_date.strftime('%Y-%m-%dT%H:%M:%S.000Z'))\n",
        "        end_dates.append((start_date+timedelta(days=1)).strftime('%Y-%m-%dT%H:%M:%S.000Z'))\n",
        "        start_date = start_date+timedelta(days=1)\n",
        "        if start_date > end_date:\n",
        "            break\n",
        "    date_range = list(zip(start_dates, end_dates))\n",
        "    return date_range"
      ]
    },
    {
      "cell_type": "markdown",
      "metadata": {
        "id": "ceKN_3fHqlP6"
      },
      "source": [
        "## Stage 2: Data Import\n",
        "\n",
        "1. First, we authenticate the API user to get access to the data. If the user isn't setup properly, this will throw an error. Check you got the correct username and password.\n",
        "\n",
        "2. Second, we will get all the sensors available to the API user. We will use this to retrieve the ``deviceuid`` for each one which is needed for getting Journey Times API data.\n",
        "\n",
        "3. Lastly, you need to select which sensors you want data for from a drop down. You then select a date range to query. This will result in multiple API responses which will be handled in the next step (Data Processing).\n",
        "\n",
        "ℹ  Sensor names are retrieved from countline names so they can sligthly differ if not named consistently.\n"
      ]
    },
    {
      "cell_type": "markdown",
      "metadata": {
        "id": "zSCZ0-x1tf0l"
      },
      "source": [
        "### Authentication\n",
        "Now you will need your API login details, ie. a username and a password. If you don't have one, please contact your Customer Success Manager.\n",
        "\n",
        "1.   Enter the username into the field on the right, then hit the run button (▶).\n",
        "2.   Input the password in the box that appears below it and hit \"enter\" on your keyboard."
      ]
    },
    {
      "cell_type": "code",
      "execution_count": null,
      "metadata": {
        "id": "i8mP6EzKE-MX"
      },
      "outputs": [],
      "source": [
        "#@title  {vertical-output: true, display-mode: \"form\" }\n",
        "#@markdown Insert your login credentials\n",
        "username = \"api-username\" #@param {type:\"string\"}\n",
        "\n",
        "auth_body = {}\n",
        "auth_body['username'] = username\n",
        "auth_body['password'] = getpass.getpass()"
      ]
    },
    {
      "cell_type": "markdown",
      "metadata": {
        "id": "qGPQI-8zq6mV"
      },
      "source": [
        "### Available Sensors\n",
        "\n",
        "We'll now get an access token using the username and password set above and get all sensors the api user has access to."
      ]
    },
    {
      "cell_type": "code",
      "execution_count": null,
      "metadata": {
        "id": "Ga3E6UcjwgUD"
      },
      "outputs": [],
      "source": [
        "#@title { vertical-output: false, display-mode: \"form\" }\n",
        "#@markdown **Code cell:** Run this to get all available sensors\n",
        "print(\"Authorising...\")\n",
        "auth_response = requests.post(\"https://api.vivacitylabs.com/get-token\", data=auth_body, headers={'Content-Type':'application/x-www-form-urlencoded'})\n",
        "if auth_response.status_code == 401:\n",
        "  print(\"\\n!Error: Can't connect to the API. Check your username and password again.\\nIf issues persists, ask your CSM to check with technical support if your user is setup correctly on the API\\n\")\n",
        "else:\n",
        "  headers = {}\n",
        "  headers['Authorization'] = \"Bearer \" + auth_response.json()['access_token']\n",
        "  refresh_body = {}\n",
        "  refresh_body['refresh_token'] = auth_response.json()['refresh_token']\n",
        "  start = time.time()\n",
        "  print(\"Done. Successfully retrieved access token.\")\n",
        "\n",
        "#get sensor meta data\n",
        "print(\"\\nRequesting metadata ...\")\n",
        "api_url_base = 'https://api.vivacitylabs.com'\n",
        "sensor_request = requests.get(f'{api_url_base}/sensor', headers=headers)\n",
        "sensors = sensor_request.json()\n",
        "\n",
        "#get countline meta data\n",
        "countline_request = requests.get(f'{api_url_base}/countline', headers=headers)\n",
        "countlines = countline_request.json()\n",
        "\n",
        "#convert to dataframe\n",
        "df_sensors = pd.DataFrame.from_dict(sensors).explode('countlines').reset_index(drop=True).rename(columns={\"id\":\"deviceuid\", \"location\": \"sensor_location\", \"countlines\":\"countline_id\"})\n",
        "df_countlines = pd.DataFrame.from_dict(countlines).rename(columns={\"id\": \"countline_id\", \"name\":\"countline_name\", \"location\":\"countline_location\", \"direction\":\"countline_direction\"})\n",
        "df_meta = pd.merge(df_sensors, df_countlines[[\"countline_id\", \"countline_name\"]], left_on=df_sensors[\"countline_id\"], right_on=df_countlines[\"countline_id\"],\n",
        "                      how=\"left\").drop(columns=[\"key_0\", \"countline_id_y\", \"sensor_location\", \"availableClasses\"]).rename(columns={\"countline_id_x\":\"countline_id\"})\n",
        "df_meta = df_meta[~df_meta[\"countline_name\"].isna()]\n",
        "df_meta['sensor_name'] = df_meta['countline_name'].str.split('_').str[0] + \" \" + df_meta['countline_name'].str.split('_').str[1]\n",
        "df_meta = df_meta[~df_meta[\"sensor_name\"].isna()]\n",
        "df_meta = df_meta.drop_duplicates(subset='deviceuid', keep='first').sort_values(by='sensor_name',ascending=True)\n",
        "\n",
        "#get clean list of sensors for dropdown\n",
        "sensor_dropdown = df_meta['sensor_name'].dropna().to_list()\n",
        "print(len(sensor_dropdown), \" sensors available\")"
      ]
    },
    {
      "cell_type": "markdown",
      "metadata": {
        "id": "xohjEFw-Ao6w"
      },
      "source": [
        "### Select sensors and date range for querying journey times\n",
        "Run this cell!\n",
        "\n",
        "Then celect an origin sensor and destination sensor from the dropdown. Use the VivaCity Dashboard to check if the sensors have Journey Times enabled and are a useful pairing.\n",
        "\n",
        "Also select the start and end dates. Ensure that the start date is before the end date.  "
      ]
    },
    {
      "cell_type": "code",
      "execution_count": null,
      "metadata": {
        "id": "W0wWZvlpr2bB"
      },
      "outputs": [],
      "source": [
        "#@title { vertical-output: false, display-mode: \"form\" }\n",
        "#@markdown **Code cell:** Run this and then make your selection\n",
        "\n",
        "originSensor = widgets.Dropdown(options=sensor_dropdown)\n",
        "destinationSensor = widgets.Dropdown(options=sensor_dropdown)\n",
        "print(\"Select Origin Sensor:\")\n",
        "display(originSensor)\n",
        "print(\" \")\n",
        "print(\"Select Destination Sensor:\")\n",
        "display(destinationSensor)\n",
        "print(\" \")\n",
        "\n",
        "start_date_input = widgets.DatePicker()\n",
        "end_date_input = widgets.DatePicker()\n",
        "\n",
        "print(\"Select Start Date: \")\n",
        "display(start_date_input)\n",
        "print(\" \")\n",
        "print(\"Select End Date:\")\n",
        "display(end_date_input)\n",
        "print(\" \")\n",
        "timebucket_input = widgets.Dropdown(options=['15m', \"1h\", \"24h\"])\n",
        "print(\"Select timebucket:\")\n",
        "display(timebucket_input)\n",
        "print(\" \")\n",
        "timezone = widgets.Dropdown(options=['Europe/London', \"Europe/Berlin\", \"Australia/Sydney\"])\n",
        "print(\"Select timezone:\")\n",
        "display(timezone)"
      ]
    },
    {
      "cell_type": "markdown",
      "metadata": {
        "id": "TKlnmGR1SePK"
      },
      "source": [
        "Run the cell below to set the input parameters for the API request. Check that they look alright."
      ]
    },
    {
      "cell_type": "code",
      "execution_count": null,
      "metadata": {
        "id": "PXOLcJ5r3AHr",
        "collapsed": true
      },
      "outputs": [],
      "source": [
        "#@title { vertical-output: false, display-mode: \"form\" }\n",
        "#@markdown **Code cell:** Run this to set the API request parameters and check your selection again\n",
        "params = {}\n",
        "params['originSensor'] = df_meta[df_meta[\"sensor_name\"]==originSensor.value][\"deviceuid\"].iloc[0]\n",
        "params['destinationSensor'] = df_meta[df_meta[\"sensor_name\"]==destinationSensor.value][\"deviceuid\"].iloc[0]\n",
        "#get timebucket\n",
        "if timebucket_input.value == \"15m\":\n",
        "  params['timeBucketSize'] = '15'\n",
        "elif timebucket_input.value == \"1h\":\n",
        "  params['timeBucketSize'] = '60'\n",
        "else:\n",
        "  params['timeBucketSize'] = '1440'\n",
        "\n",
        "#convert local datetime to UTC datetime\n",
        "start_date_utc = str(pd.to_datetime(start_date_input.value).tz_localize(timezone.value).astimezone(pytz.utc))\n",
        "end_date_utc = str(pd.to_datetime(end_date_input.value).tz_localize(timezone.value).astimezone(pytz.utc))\n",
        "\n",
        "#check if dates are in correct order\n",
        "if start_date_input.value > end_date_input.value:\n",
        "  print(\"Start date is after end date, please correct your date selection\")\n",
        "else:\n",
        "  date_range = get_date_range(start_date_utc, end_date_utc)\n",
        "  print(\"Check your selection:\\n\")\n",
        "  print(\"Origin sensor:\", originSensor.value,\"\\nDestination sensor:\", destinationSensor.value, \"\\nDates:\", start_date_input.value, \"to\", end_date_input.value, \"\\nTime bucket:\", timebucket_input.value)"
      ]
    },
    {
      "cell_type": "markdown",
      "metadata": {
        "id": "XfRqYcWv1BYd"
      },
      "source": [
        "### Getting the data\n",
        "\n",
        "We now query Journey Times data from the API.\n",
        "\n",
        "The output will tell you how many requests are made and what the progress is."
      ]
    },
    {
      "cell_type": "code",
      "execution_count": null,
      "metadata": {
        "id": "JQnn1ln28KaA"
      },
      "outputs": [],
      "source": [
        "#@title { vertical-output: false, display-mode: \"form\" }\n",
        "#@markdown **Code cell:** Run this to request data from the API (can take a bit)\n",
        "data = []\n",
        "for i,date in enumerate(date_range):\n",
        "  time_elapsed = (time.time() - start)\n",
        "  if time_elapsed > 500:\n",
        "    print(\"Reauthorising...\")\n",
        "    auth_response = requests.post(\"https://api.vivacitylabs.com/refresh-token\", data=refresh_body, headers={'Content-Type':'application/x-www-form-urlencoded'})\n",
        "    headers = {}\n",
        "    headers['Authorization'] = \"Bearer \" + auth_response.json()['access_token']\n",
        "    refresh_body = {}\n",
        "    refresh_body['refresh_token'] = auth_response.json()['refresh_token']\n",
        "    start = time.time()\n",
        "    print(\"Done.\")\n",
        "  params[\"timeFrom\"] = date[0]\n",
        "  params[\"timeTo\"] = date[1]\n",
        "  response = requests.get(\"https://api.vivacitylabs.com/journey-times/arriving/bucketed\", params=params, headers=headers)\n",
        "  print(str(i+1) + \"/\" + str(len(date_range)) + \": \" + str(response.status_code) + \" \" + response.reason)\n",
        "  if response.status_code == 200:\n",
        "    data.append(response.json())\n",
        "  else:\n",
        "    print(\"Data missing for \" + params[\"timeFrom\"].split(\"T\")[0] + \" to \" + params[\"timeTo\"].split(\"T\")[0])\n",
        "  time.sleep(1)"
      ]
    },
    {
      "cell_type": "markdown",
      "metadata": {
        "id": "CnI-EFqr0nxu"
      },
      "source": [
        "## Stage 3: Data Processing\n",
        "Now we process the raw data output and put it into a nice format.\n"
      ]
    },
    {
      "cell_type": "code",
      "execution_count": null,
      "metadata": {
        "id": "LLyDNHck4IBy"
      },
      "outputs": [],
      "source": [
        "#@title { vertical-output: false, display-mode: \"form\" }\n",
        "#@markdown **Code cell:** Run this to process and clean the data\n",
        "\n",
        "export = []\n",
        "for date_data in data:\n",
        "  day_export = []\n",
        "  for time_bucket, time_data in date_data.items():\n",
        "    start_time = datetime.strptime(time_bucket,'%Y-%m-%dT%H:%M:%S.000Z')\n",
        "    end_time = datetime.strptime(time_bucket,'%Y-%m-%dT%H:%M:%S.000Z')+timedelta(minutes=60)\n",
        "    row = [#convert dates back to local datetime from UTC\n",
        "            str(pd.to_datetime(start_time).tz_localize('utc').astimezone(timezone.value).date()),\n",
        "            str(pd.to_datetime(start_time).tz_localize('utc').astimezone(timezone.value).time()),\n",
        "            str(pd.to_datetime(end_time).tz_localize('utc').astimezone(timezone.value).time()),\n",
        "           originSensor.value,\n",
        "           destinationSensor.value,\n",
        "           int(time_data['medianJourneyTimeInSeconds']),\n",
        "           time_data['numberOfJourneys']]\n",
        "    day_export.append(row)\n",
        "  export += day_export\n",
        "\n",
        "#convert to dataframe\n",
        "header = ['Date',\t'Start time',\t'End time', 'Origin sensor', 'Destination sensor', 'Median journey time (seconds)', 'Number of journeys']\n",
        "df_export = pd.DataFrame(export, columns = header)"
      ]
    },
    {
      "cell_type": "markdown",
      "metadata": {
        "id": "9YNEW3qFGykk"
      },
      "source": [
        "## Stage 4: Data Export\n",
        "Now let's write this to a .csv file. You can either save the file locally (it will show in your Downloads folder) or save it to a Google Drive.\n",
        "\n",
        "* **Local Downloads Folder:** This might not work if your browser or computer blocking downloads.\n",
        "* **Google Drive:** If you want to save it in Google Drive, you will be asked for permission to connect to your Google Account."
      ]
    },
    {
      "cell_type": "code",
      "execution_count": null,
      "metadata": {
        "id": "H_M2lLv6Poaq"
      },
      "outputs": [],
      "source": [
        "#@title  { vertical-output: true, display-mode: \"form\" }\n",
        "#@markdown Select where to save the csv file\n",
        "download_location = \"Local folder\" #@param [ \"Local folder\", \"Google Drive\"]\n",
        "#@markdown Name your file\n",
        "filename = \"jt-test\" #@param {type:\"string\"}\n",
        "#@markdown Hit run (>)\n",
        "\n",
        "if download_location == \"Local folder\":\n",
        "  from google.colab import files\n",
        "  df_export.to_csv(filename + \".csv\", index = False)\n",
        "  files.download(filename + \".csv\")\n",
        "else:\n",
        "  from google.colab import drive\n",
        "  drive.mount('/content/drive')\n",
        "  path = '/content/drive/My Drive/'\n",
        "  df_export.to_csv(path + filename +\".csv\", index = False)"
      ]
    }
  ],
  "metadata": {
    "colab": {
      "provenance": [],
      "include_colab_link": true
    },
    "kernelspec": {
      "display_name": "Python 3",
      "name": "python3"
    },
    "language_info": {
      "name": "python"
    }
  },
  "nbformat": 4,
  "nbformat_minor": 0
}