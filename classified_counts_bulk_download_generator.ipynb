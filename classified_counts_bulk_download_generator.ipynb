{
  "nbformat": 4,
  "nbformat_minor": 0,
  "metadata": {
    "colab": {
      "provenance": [],
      "collapsed_sections": [],
      "include_colab_link": true
    },
    "kernelspec": {
      "name": "python3",
      "display_name": "Python 3"
    },
    "language_info": {
      "name": "python"
    }
  },
  "cells": [
    {
      "cell_type": "markdown",
      "metadata": {
        "id": "view-in-github",
        "colab_type": "text"
      },
      "source": [
        "<a href=\"https://colab.research.google.com/github/vivacitylabs/data-toolkit/blob/master/classified_counts_bulk_download_generator.ipynb\" target=\"_parent\"><img src=\"https://colab.research.google.com/assets/colab-badge.svg\" alt=\"Open In Colab\"/></a>"
      ]
    },
    {
      "cell_type": "markdown",
      "source": [
        "# Classified Counts - Bulk Download Generator\n",
        "\n"
      ],
      "metadata": {
        "id": "swMyhc_6p4SZ"
      }
    },
    {
      "cell_type": "markdown",
      "source": [
        "## Generate a csv file of Classified Counts data over multiple days"
      ],
      "metadata": {
        "id": "f4ZN3B2nO3_1"
      }
    },
    {
      "cell_type": "markdown",
      "source": [
        "This notebook is a tool to access VivaCity data via the API. It is aimed as an **interim solution** while we're working on new dashboard developments. You can contact your customer success manager for more information.\n",
        "\n",
        "Use this notebook only if you need one of the T14 classes that can't be downloaded via the dashboard."
      ],
      "metadata": {
        "id": "rPUGheZbGhnG"
      }
    },
    {
      "cell_type": "markdown",
      "source": [
        "#### How it works"
      ],
      "metadata": {
        "id": "owGXUfxaRzlG"
      }
    },
    {
      "cell_type": "markdown",
      "source": [
        "This notebook will run you through all the necessary steps and will save the output csv file in your Google Drive.\n",
        "\n",
        "You will simply need to fill in a few details and then hit the run button next to the code cells.\n",
        "\n",
        "**What you will need**\n",
        "\n",
        "- Google account\n",
        "- VivaCity API login credentials\n",
        "- Countline ids you want to download data for\n"
      ],
      "metadata": {
        "id": "waNUJf0ZOFHa"
      }
    },
    {
      "cell_type": "markdown",
      "source": [
        "#### Output format"
      ],
      "metadata": {
        "id": "Xi8YdeTmRwNr"
      }
    },
    {
      "cell_type": "markdown",
      "source": [
        "The output file will look something like this."
      ],
      "metadata": {
        "id": "I9ryHNRfRjWw"
      }
    },
    {
      "cell_type": "markdown",
      "source": [
        "| Local Datetime | CountlineId | countlineName | direction |  car |\tcyclist | motorbike | taxi | \n",
        "|:---------:|:---------:|:---------:|:---------:|:---------:|:---------:|:---------:|:---------:|\n",
        "|\t2022-10-06 00:00:00 |21876\t| RBK3_ClarenceSt_S3 | in |\t8 | 3 | 1\t| 0 |"
      ],
      "metadata": {
        "id": "lmzYubsdPDFg"
      }
    },
    {
      "cell_type": "markdown",
      "source": [
        "## Stage 1: Getting Started\n",
        "Let's begin by importing the packages we'll need and creating some useful functions!\n",
        "\n",
        "Hit the run button (▶) in the top left corner."
      ],
      "metadata": {
        "id": "p-2otBZMqfTH"
      }
    },
    {
      "cell_type": "code",
      "source": [
        "import requests\n",
        "import getpass\n",
        "import json\n",
        "import pandas as pd\n",
        "from datetime import date, datetime, timedelta\n",
        "import csv\n",
        "import time\n",
        "import pytz\n",
        "from IPython.display import Markdown, display\n",
        "def printmd(string):\n",
        "    display(Markdown(string))\n",
        "from ipywidgets import interact, interactive, fixed, interact_manual, Layout, Box\n",
        "import ipywidgets as widgets\n",
        "from google.colab import drive\n",
        "drive.mount('/content/drive')\n",
        "\n",
        "def get_date_range(start_date, end_date):\n",
        "    start_dates = []\n",
        "    end_dates = []\n",
        "\n",
        "    start_date = datetime.fromisoformat(start_date)\n",
        "    end_date = datetime.fromisoformat(end_date)\n",
        "    while True:\n",
        "        start_dates.append(start_date.strftime('%Y-%m-%dT%H:%M:%S.000Z'))\n",
        "        end_dates.append((start_date+timedelta(days=1)).strftime('%Y-%m-%dT%H:%M:%S.000Z'))\n",
        "        start_date = start_date+timedelta(days=1)\n",
        "        if start_date > end_date:\n",
        "            break\n",
        "    date_range = list(zip(start_dates, end_dates))\n",
        "    return date_range"
      ],
      "metadata": {
        "id": "UXc72Xjuqikg"
      },
      "execution_count": null,
      "outputs": []
    },
    {
      "cell_type": "markdown",
      "source": [
        "## Stage 2: Data Import\n",
        "\n",
        "First, we'll input the api username and password. Contact your Customer Success Manage if you don't have these details. \n",
        "\n",
        "We will then request all countlines the user has access to. If some countlines are missing, get in touch with us. \n",
        "\n",
        "Finally, you will select the date period, countlines and classes to request data for. "
      ],
      "metadata": {
        "id": "ceKN_3fHqlP6"
      }
    },
    {
      "cell_type": "markdown",
      "source": [
        "### Authentication\n",
        "Now you will need your API login details, ie. a username and a password. If you don't have one, please contact your Customer Success Manager.\n",
        "\n",
        "1.   Enter the username into the field on the right, then hit the run button (▶).\n",
        "2.   Input the password in the box that appears below it and hit \"enter\" on your keyboard. \n"
      ],
      "metadata": {
        "id": "zSCZ0-x1tf0l"
      }
    },
    {
      "cell_type": "code",
      "source": [
        "#@title  { run: \"auto\", vertical-output: true, display-mode: \"form\" }\n",
        "#@markdown Insert your login credentials\n",
        "username = \"API-username\" #@param {type:\"string\"}\n",
        "\n",
        "auth_body = {}\n",
        "auth_body['username'] = username\n",
        "auth_body['password'] = getpass.getpass()"
      ],
      "metadata": {
        "id": "i8mP6EzKE-MX"
      },
      "execution_count": null,
      "outputs": []
    },
    {
      "cell_type": "markdown",
      "source": [
        "#### Available Countlines\n",
        "\n",
        "Get access token using our username and password and get all countlines user has access to."
      ],
      "metadata": {
        "id": "qGPQI-8zq6mV"
      }
    },
    {
      "cell_type": "code",
      "source": [
        "print(\"Authorising...\")\n",
        "auth_response = requests.post(\"https://api.vivacitylabs.com/get-token\", data=auth_body, headers={'Content-Type':'application/x-www-form-urlencoded'})\n",
        "headers = {}\n",
        "headers['Authorization'] = \"Bearer \" + auth_response.json()['access_token']\n",
        "refresh_body = {}\n",
        "refresh_body['refresh_token'] = auth_response.json()['refresh_token']\n",
        "start = time.time()\n",
        "print(\"Done.\")\n",
        "\n",
        "#get countline meta data\n",
        "api_url_base = 'https://api.vivacitylabs.com'\n",
        "countline_request = requests.get(f'{api_url_base}/countline', headers=headers)\n",
        "countlines = countline_request.json()\n",
        "\n",
        "#convert to dataframe\n",
        "df_countlines = pd.DataFrame.from_dict(countlines).rename(columns={\"id\": \"countline_id\", \"name\":\"countline_name\", \"location\":\"countline_location\", \"direction\":\"countline_direction\"})\n",
        "print(len(df_countlines[\"countline_id\"].unique()), \" countlines available\")"
      ],
      "metadata": {
        "id": "Ga3E6UcjwgUD"
      },
      "execution_count": null,
      "outputs": []
    },
    {
      "cell_type": "markdown",
      "source": [
        "### Select countlines and date range for querying the API\n",
        "Run this cell!\n",
        "\n",
        "Then select class and countlines from the dropdown. Also select the start and end dates. Ensure that the start date is before the end date.  "
      ],
      "metadata": {
        "id": "xohjEFw-Ao6w"
      }
    },
    {
      "cell_type": "code",
      "source": [
        "box_layout = Layout(display='flex', flex_flow='column',\n",
        "                    align_items='stretch', border=None, width='28%')\n",
        "\n",
        "start_date_input = widgets.DatePicker(description=\"Start date\",layout=Layout(width='55%'))\n",
        "end_date_input = widgets.DatePicker(description=\"End date\",layout=Layout(width='55%'))\n",
        "timezone = widgets.Dropdown(options=['Europe/London', \"Europe/Berlin\", \"Australia/Sydney\"],description=\"Timezone\",layout=Layout(width='55%'))\n",
        "\n",
        "class_input = widgets.SelectMultiple(\n",
        "    options=[ \"cyclist\", \"motorbike\", \"car\", \"pedestrian\", \"taxi\", \"van\", \"minibus\", \"bus\", \"rigid\", \"truck\", \"emergency_car\", \"emergency_van\", \"fire_engine\", \"escooter\"],\n",
        "    description='Class',  disabled=False,\n",
        "    layout=Layout(width='55%', height='230px')\n",
        ")\n",
        "countlines_input = widgets.SelectMultiple(\n",
        "    options=df_countlines[\"countline_name\"].unique(),\n",
        "    description='Countlines',\n",
        "    disabled=False,\n",
        "    layout=Layout(width='auto', height='200px')\n",
        ")\n",
        "items = [start_date_input, end_date_input, timezone, class_input,countlines_input]\n",
        "box = Box(children=items, layout=box_layout)\n",
        "printmd(\"**Select date period and countlines**\")\n",
        "printmd(\"Hold  `Ctrl + Shift`  to select multiple classes or countlines\")\n",
        "print(\"\")\n",
        "box"
      ],
      "metadata": {
        "id": "cttvRch0VS-e"
      },
      "execution_count": null,
      "outputs": []
    },
    {
      "cell_type": "markdown",
      "source": [
        "Run the cell below to set the input parameters for the API request. Check that they look alright."
      ],
      "metadata": {
        "id": "TKlnmGR1SePK"
      }
    },
    {
      "cell_type": "code",
      "source": [
        "params = {}\n",
        "params['countline'] = df_countlines[df_countlines[\"countline_name\"].isin(countlines_input.value)][\"countline_id\"].to_list()\n",
        "params['class'] = list(class_input.value)\n",
        "params[\"includeZeroCounts\"] = True\n",
        "\n",
        "#convert local datetime to UTC datetime\n",
        "start_date_utc = str(pd.to_datetime(start_date_input.value).tz_localize(timezone.value).astimezone(pytz.utc))\n",
        "end_date_utc = str(pd.to_datetime(end_date_input.value).tz_localize(timezone.value).astimezone(pytz.utc))\n",
        "\n",
        "#check if dates are in correct order\n",
        "if start_date_input.value > end_date_input.value:\n",
        "  print(\"Start date is after end date, please correct your date selection\")\n",
        "else:\n",
        "  date_range = get_date_range(start_date_utc, end_date_utc)\n",
        "  printmd(\"**Check your selection:**\\n\")\n",
        "  print(\"Dates:\", start_date_input.value, \"to\", end_date_input.value, \"\\nClass:\", class_input.value, \"\\nCountlines:\", countlines_input.value )"
      ],
      "metadata": {
        "id": "PXOLcJ5r3AHr"
      },
      "execution_count": null,
      "outputs": []
    },
    {
      "cell_type": "markdown",
      "source": [
        "### Getting the data\n",
        "\n",
        "We now query Classified Counts data from the API. \n",
        "\n",
        "The output will tell you how many requests are made and what the progress is."
      ],
      "metadata": {
        "id": "XfRqYcWv1BYd"
      }
    },
    {
      "cell_type": "code",
      "source": [
        "data = []\n",
        "for i,date in enumerate(date_range):\n",
        "  time_elapsed = (time.time() - start)\n",
        "  if time_elapsed > 500:\n",
        "    print(\"Reauthorising...\")\n",
        "    auth_response = requests.post(\"https://api.vivacitylabs.com/refresh-token\", data=refresh_body, headers={'Content-Type':'application/x-www-form-urlencoded'})\n",
        "    headers = {}\n",
        "    headers['Authorization'] = \"Bearer \" + auth_response.json()['access_token']\n",
        "    refresh_body = {}\n",
        "    refresh_body['refresh_token'] = auth_response.json()['refresh_token']\n",
        "    start = time.time()\n",
        "    print(\"Done.\")\n",
        "  params[\"timeFrom\"] = date[0]  \n",
        "  params[\"timeTo\"] = date[1] \n",
        "  response = requests.get('https://api.vivacitylabs.com/counts', params=params, headers=headers)\n",
        "  print(str(i+1) + \"/\" + str(len(date_range)) + \": \" + str(response.status_code) + \" \" + response.reason)\n",
        "  if response.status_code is 200:\n",
        "    json_counts = response.json()\n",
        "    df_request = {\"countline_id\" : [], \"timefrom\": [], \"timeto\": [], \"classes\": [], \"in\": [], \"out\":[]}   \n",
        "    for item in json_counts:\n",
        "        for bucket in json_counts[item]:\n",
        "            for i in range(len(json_counts[item][bucket][\"counts\"])):\n",
        "                df_request[\"countline_id\"].append(item)\n",
        "                df_request[\"timefrom\"].append(json_counts[item][bucket][\"from\"])\n",
        "                df_request[\"timeto\"].append(json_counts[item][bucket][\"to\"])\n",
        "                df_request[\"classes\"].append(json_counts[item][bucket][\"counts\"][i]['class'])\n",
        "                df_request[\"in\"].append(json_counts[item][bucket][\"counts\"][i]['countIn'])\n",
        "                df_request[\"out\"].append(json_counts[item][bucket][\"counts\"][i]['countOut'])\n",
        "    \n",
        "    #convert to dataframe\n",
        "    df_request = pd.DataFrame.from_dict(df_request)\n",
        "    data.append(df_request)\n",
        "  else:\n",
        "    print(\"Data missing for \" + params[\"timeFrom\"].split(\"T\")[0] + \" to \" + params[\"timeTo\"].split(\"T\")[0])\n",
        "  time.sleep(1)\n",
        "\n",
        "data = pd.concat(data, axis=0)  "
      ],
      "metadata": {
        "id": "JQnn1ln28KaA"
      },
      "execution_count": null,
      "outputs": []
    },
    {
      "cell_type": "markdown",
      "source": [
        "## Stage 3: Data Processing\n",
        "Now we process the raw data output and put it into a nice format. Here you can select a desired time bucket.\n"
      ],
      "metadata": {
        "id": "CnI-EFqr0nxu"
      }
    },
    {
      "cell_type": "code",
      "source": [
        "#@title  {vertical-output: true, display-mode: \"form\" }\n",
        "#@markdown Select time bucket and run data processing\n",
        "timebucket = \"1H\" #@param ['15Min', \"1H\", \"24H\"]\n",
        "\n",
        "export = data.rename(columns={\"countline_id\": \"CountlineId\", \"timefrom\":\"UTC Datetime\"}).drop(columns=\"timeto\")\n",
        "export[\"Local Datetime\"] = pd.to_datetime([pd.to_datetime(x).tz_convert(timezone.value).strftime('%Y-%m-%d %H:%M:%S') for x in export[\"UTC Datetime\"]])\n",
        "export = export.drop(columns=\"UTC Datetime\")\n",
        "\n",
        "#add countline names\n",
        "export[\"countlineName\"] = export[\"CountlineId\"].map(dict(zip(df_countlines[\"countline_id\"], df_countlines[\"countline_name\"])))\n",
        "\n",
        "#reshape\n",
        "export = export.groupby(['Local Datetime', 'CountlineId',  'countlineName','classes']).sum().stack().to_frame().reset_index().rename(columns={\"level_4\":\"direction\", 0:\"counts\"})\n",
        "export = export.pivot(index=[ 'Local Datetime', 'CountlineId', 'countlineName','direction'], columns='classes', values='counts').reset_index()\n",
        "\n",
        "#aggregate into desired time buckets\n",
        "export = export.groupby([pd.Grouper(key='Local Datetime', freq=timebucket), 'CountlineId', 'countlineName','direction']).sum().reset_index()"
      ],
      "metadata": {
        "id": "_PF24qVJi9-c"
      },
      "execution_count": null,
      "outputs": []
    },
    {
      "cell_type": "markdown",
      "source": [
        "## Stage 4: Data Export\n",
        "Now let's write this to a .csv and save it to the parent folder (`My drive`) in Google Drive. \n",
        "\n",
        "Set the `filename` to the right and then hit run."
      ],
      "metadata": {
        "id": "9YNEW3qFGykk"
      }
    },
    {
      "cell_type": "code",
      "source": [
        "#@title  { vertical-output: true, display-mode: \"form\" }\n",
        "#@markdown Set the output filename\n",
        "filename = \"\" #@param {type:\"string\"}\n",
        "\n",
        "path = '/content/drive/My Drive/'\n",
        "export.to_csv(path + filename +\".csv\", index = False)"
      ],
      "metadata": {
        "id": "H_M2lLv6Poaq"
      },
      "execution_count": null,
      "outputs": []
    }
  ]
}